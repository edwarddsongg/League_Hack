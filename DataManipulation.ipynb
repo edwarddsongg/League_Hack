{
 "cells": [
  {
   "cell_type": "code",
   "execution_count": 38,
   "metadata": {
    "collapsed": true
   },
   "outputs": [],
   "source": [
    "import numpy as np\n",
    "import pandas as pd\n",
    "import json\n",
    "import os"
   ]
  },
  {
   "cell_type": "code",
   "execution_count": 52,
   "outputs": [],
   "source": [
    "# places one of each 'eventType' into a json file\n",
    "# this is just for testing purposes... essentially useless LOL\n",
    "eventType = set()\n",
    "dataDict = []\n",
    "\n",
    "with open('Data/games/ESPORTSTMNT03_3195276.json', 'r', encoding='utf-8') as file:\n",
    "    game_data = json.load(file)\n",
    "\n",
    "# if isinstance(game_data, list):\n",
    "#     game_data.reverse()\n",
    "\n",
    "for entry in game_data:\n",
    "    eventType.add(entry['eventType'])\n",
    "\n",
    "for entry in game_data:\n",
    "    if entry['eventType'] in eventType:\n",
    "        eventType.remove(entry['eventType'])\n",
    "        dataDict.append(entry)\n",
    "    if len(eventType) == 0:\n",
    "        break\n",
    "\n",
    "with open('Data/help.json', 'w') as json_file:\n",
    "    json.dump(dataDict, json_file)\n"
   ],
   "metadata": {
    "collapsed": false
   }
  },
  {
   "cell_type": "code",
   "execution_count": 75,
   "outputs": [],
   "source": [
    "# modify teams.json so i get go from team id to team name\n",
    "\n",
    "teams = dict()\n",
    "\n",
    "with open('Data/teams.json', 'r', encoding='utf-8') as file:\n",
    "    mapping_data = json.load(file)\n",
    "\n",
    "for entry in mapping_data:\n",
    "    teams[entry['team_id']] = entry['name']\n",
    "\n",
    "with open('Data/teams_but_better.json', 'w') as json_file:\n",
    "    json.dump(teams, json_file)"
   ],
   "metadata": {
    "collapsed": false
   }
  },
  {
   "cell_type": "code",
   "execution_count": 39,
   "outputs": [],
   "source": [
    "# modify mapping_data so it suites team mapping better :D\n",
    "game_mapping_data = dict()\n",
    "\n",
    "with open('Data/mapping_data.json', 'r', encoding='utf-8') as file:\n",
    "    mapping_data = json.load(file)\n",
    "\n",
    "for entry in mapping_data:\n",
    "    game_mapping_data[entry['platformGameId']] = entry['teamMapping']\n",
    "\n",
    "with open('Data/game_mapping_data.json', 'w') as json_file:\n",
    "    json.dump(game_mapping_data, json_file)"
   ],
   "metadata": {
    "collapsed": false
   }
  },
  {
   "cell_type": "code",
   "execution_count": 57,
   "outputs": [
    {
     "name": "stdout",
     "output_type": "stream",
     "text": [
      "{'100': {'inhibKills': 0, 'towerKills': 1, 'teamID': 100, 'baronKills': 0, 'assists': 22, 'dragonKills': 0, 'championsKills': 8, 'totalGold': 45046, 'deaths': 20, 'totalDamage': 549107.033203125, 'totalLevel': 65, 'won': False, 'gameTime': 1616432}, '200': {'inhibKills': 2, 'towerKills': 9, 'teamID': 200, 'baronKills': 1, 'assists': 44, 'dragonKills': 4, 'championsKills': 20, 'totalGold': 56865, 'deaths': 8, 'totalDamage': 699357.548828125, 'totalLevel': 73, 'won': True, 'gameTime': 1616432}}\n",
      "{'100': {'inhibKills': 0, 'towerKills': 4, 'teamID': 100, 'baronKills': 0, 'dragonKills': 3, 'assists': 29, 'championsKills': 11, 'totalGold': 67739, 'deaths': 18, 'totalDamage': 1023992.51953125, 'totalLevel': 82, 'won': False, 'gameTime': 2498912}, '200': {'inhibKills': 1, 'towerKills': 7, 'teamID': 200, 'baronKills': 2, 'dragonKills': 4, 'assists': 46, 'championsKills': 18, 'totalGold': 76307, 'deaths': 11, 'totalDamage': 1286963.44140625, 'totalLevel': 87, 'won': True, 'gameTime': 2498912}}\n",
      "{'100': {'inhibKills': 2, 'towerKills': 9, 'teamID': 100, 'baronKills': 2, 'assists': 31, 'dragonKills': 2, 'championsKills': 17, 'totalGold': 60673, 'deaths': 6, 'totalDamage': 780417.111328125, 'totalLevel': 76, 'won': True, 'gameTime': 1728697}, '200': {'inhibKills': 0, 'towerKills': 1, 'teamID': 200, 'baronKills': 0, 'assists': 18, 'dragonKills': 2, 'championsKills': 6, 'totalGold': 47279, 'deaths': 17, 'totalDamage': 596731.896484375, 'totalLevel': 66, 'won': False, 'gameTime': 1728697}}\n",
      "{'100': {'inhibKills': 2, 'towerKills': 11, 'teamID': 100, 'baronKills': 0, 'dragonKills': 2, 'assists': 43, 'totalGold': 54348, 'championsKills': 25, 'deaths': 10, 'totalDamage': 617285.291015625, 'totalLevel': 66, 'won': True, 'gameTime': 1418157}, '200': {'inhibKills': 0, 'towerKills': 0, 'teamID': 200, 'baronKills': 1, 'dragonKills': 0, 'assists': 14, 'totalGold': 39696, 'championsKills': 10, 'deaths': 25, 'totalDamage': 414858.345703125, 'totalLevel': 62, 'won': False, 'gameTime': 1418157}}\n",
      "{'100': {'inhibKills': 0, 'towerKills': 2, 'teamID': 100, 'baronKills': 0, 'assists': 13, 'dragonKills': 0, 'championsKills': 6, 'totalGold': 47397, 'deaths': 20, 'totalDamage': 630927.7265625, 'totalLevel': 66, 'won': False, 'gameTime': 1790245}, '200': {'inhibKills': 1, 'towerKills': 8, 'teamID': 200, 'baronKills': 1, 'assists': 49, 'dragonKills': 3, 'championsKills': 20, 'totalGold': 58859, 'deaths': 6, 'totalDamage': 743375.6220703125, 'totalLevel': 74, 'won': True, 'gameTime': 1790245}}\n",
      "{'100': {'inhibKills': 1, 'towerKills': 6, 'teamID': 100, 'baronKills': 0, 'dragonKills': 3, 'assists': 15, 'championsKills': 7, 'totalGold': 45795, 'deaths': 3, 'totalDamage': 622913.953125, 'totalLevel': 68, 'won': True, 'gameTime': 1565144}, '200': {'inhibKills': 0, 'towerKills': 1, 'teamID': 200, 'baronKills': 0, 'dragonKills': 0, 'assists': 6, 'championsKills': 3, 'totalGold': 41918, 'deaths': 7, 'totalDamage': 603880.1044921875, 'totalLevel': 63, 'won': False, 'gameTime': 1565144}}\n",
      "{'100': {'inhibKills': 0, 'towerKills': 2, 'teamID': 100, 'baronKills': 0, 'dragonKills': 0, 'assists': 7, 'championsKills': 5, 'totalGold': 29475, 'deaths': 20, 'totalDamage': 285622.31201171875, 'totalLevel': 47, 'won': False, 'gameTime': 1010361}, '200': {'inhibKills': 1, 'towerKills': 7, 'teamID': 200, 'baronKills': 0, 'dragonKills': 2, 'assists': 34, 'championsKills': 19, 'totalGold': 37135, 'deaths': 5, 'totalDamage': 353967.4453125, 'totalLevel': 51, 'won': True, 'gameTime': 1010361}}\n",
      "{'100': {'inhibKills': 0, 'towerKills': 5, 'teamID': 100, 'baronKills': 2, 'assists': 48, 'dragonKills': 1, 'championsKills': 19, 'totalGold': 70470, 'deaths': 35, 'totalDamage': 889920.705078125, 'totalLevel': 82, 'won': False, 'gameTime': 2289370}, '200': {'inhibKills': 2, 'towerKills': 8, 'teamID': 200, 'baronKills': 1, 'assists': 105, 'dragonKills': 4, 'championsKills': 35, 'totalGold': 76173, 'deaths': 19, 'totalDamage': 936737.4423828125, 'totalLevel': 85, 'won': True, 'gameTime': 2289370}}\n",
      "{'100': {'inhibKills': 0, 'towerKills': 0, 'teamID': 100, 'baronKills': 0, 'assists': 22, 'dragonKills': 1, 'championsKills': 9, 'totalGold': 38163, 'deaths': 12, 'totalDamage': 432982.298828125, 'totalLevel': 58, 'won': False, 'gameTime': 1390431}, '200': {'inhibKills': 1, 'towerKills': 6, 'teamID': 200, 'baronKills': 0, 'assists': 37, 'dragonKills': 2, 'championsKills': 12, 'totalGold': 44268, 'deaths': 10, 'totalDamage': 580166.6875, 'totalLevel': 62, 'won': True, 'gameTime': 1390431}}\n",
      "{'100': {'inhibKills': 2, 'towerKills': 9, 'teamID': 100, 'baronKills': 1, 'dragonKills': 3, 'assists': 23, 'championsKills': 12, 'totalGold': 50778, 'deaths': 3, 'totalDamage': 599119.61328125, 'totalLevel': 68, 'won': True, 'gameTime': 1432981}, '200': {'inhibKills': 0, 'towerKills': 0, 'teamID': 200, 'baronKills': 0, 'dragonKills': 0, 'assists': 4, 'championsKills': 3, 'totalGold': 37034, 'deaths': 12, 'totalDamage': 444991.810546875, 'totalLevel': 58, 'won': False, 'gameTime': 1432981}}\n",
      "{'100': {'inhibKills': 0, 'towerKills': 3, 'teamID': 100, 'baronKills': 0, 'dragonKills': 0, 'assists': 7, 'championsKills': 5, 'totalGold': 39191, 'deaths': 20, 'totalDamage': 476013.259765625, 'totalLevel': 59, 'won': False, 'gameTime': 1463088}, '200': {'inhibKills': 3, 'towerKills': 11, 'teamID': 200, 'baronKills': 1, 'dragonKills': 3, 'assists': 46, 'championsKills': 20, 'totalGold': 50069, 'deaths': 5, 'totalDamage': 536470.169921875, 'totalLevel': 65, 'won': True, 'gameTime': 1463088}}\n",
      "{'100': {'inhibKills': 0, 'towerKills': 1, 'teamID': 100, 'baronKills': 0, 'dragonKills': 0, 'assists': 9, 'totalGold': 32932, 'championsKills': 5, 'deaths': 20, 'totalDamage': 303495.765625, 'totalLevel': 52, 'won': False, 'gameTime': 1186554}, '200': {'inhibKills': 1, 'towerKills': 7, 'teamID': 200, 'baronKills': 0, 'dragonKills': 2, 'assists': 28, 'totalGold': 43813, 'championsKills': 20, 'deaths': 5, 'totalDamage': 513232.373046875, 'totalLevel': 59, 'won': True, 'gameTime': 1186554}}\n",
      "{'100': {'inhibKills': 1, 'towerKills': 8, 'teamID': 100, 'baronKills': 1, 'dragonKills': 5, 'assists': 39, 'totalGold': 71650, 'championsKills': 21, 'deaths': 8, 'totalDamage': 1031056.7265625, 'totalLevel': 83, 'won': True, 'gameTime': 2102177}, '200': {'inhibKills': 0, 'towerKills': 3, 'teamID': 200, 'baronKills': 1, 'dragonKills': 0, 'assists': 21, 'totalGold': 58902, 'championsKills': 8, 'deaths': 21, 'totalDamage': 885930.8203125, 'totalLevel': 76, 'won': False, 'gameTime': 2102177}}\n",
      "{'100': {'inhibKills': 0, 'towerKills': 3, 'teamID': 100, 'baronKills': 0, 'dragonKills': 2, 'assists': 7, 'championsKills': 4, 'totalGold': 60718, 'deaths': 12, 'totalDamage': 1021896.54296875, 'totalLevel': 78, 'won': False, 'gameTime': 2198989}, '200': {'inhibKills': 2, 'towerKills': 10, 'teamID': 200, 'baronKills': 2, 'dragonKills': 4, 'assists': 29, 'championsKills': 12, 'totalGold': 66956, 'deaths': 4, 'totalDamage': 943586.904296875, 'totalLevel': 79, 'won': True, 'gameTime': 2198989}}\n",
      "{'100': {'inhibKills': 0, 'towerKills': 3, 'teamID': 100, 'baronKills': 0, 'dragonKills': 1, 'assists': 17, 'championsKills': 10, 'totalGold': 38481, 'deaths': 21, 'totalDamage': 419582.4501953125, 'totalLevel': 57, 'won': False, 'gameTime': 1376314}, '200': {'inhibKills': 1, 'towerKills': 8, 'teamID': 200, 'baronKills': 1, 'dragonKills': 1, 'assists': 55, 'championsKills': 21, 'totalGold': 49501, 'deaths': 10, 'totalDamage': 481971.94921875, 'totalLevel': 64, 'won': True, 'gameTime': 1376314}}\n",
      "{'100': {'inhibKills': 1, 'towerKills': 9, 'teamID': 100, 'baronKills': 3, 'dragonKills': 1, 'assists': 44, 'championsKills': 15, 'totalGold': 71511, 'deaths': 10, 'totalDamage': 968975.4052734375, 'totalLevel': 84, 'won': True, 'gameTime': 2217864}, '200': {'inhibKills': 0, 'towerKills': 6, 'teamID': 200, 'baronKills': 0, 'dragonKills': 4, 'assists': 17, 'championsKills': 10, 'totalGold': 61771, 'deaths': 15, 'totalDamage': 949671.814453125, 'totalLevel': 77, 'won': False, 'gameTime': 2217864}}\n",
      "{'100': {'inhibKills': 0, 'towerKills': 5, 'teamID': 100, 'baronKills': 1, 'dragonKills': 2, 'assists': 26, 'championsKills': 9, 'totalGold': 61571, 'deaths': 16, 'totalDamage': 957888.125, 'totalLevel': 77, 'won': False, 'gameTime': 2105467}, '200': {'inhibKills': 1, 'towerKills': 8, 'teamID': 200, 'baronKills': 1, 'dragonKills': 3, 'assists': 55, 'championsKills': 16, 'totalGold': 66156, 'deaths': 9, 'totalDamage': 962319.80078125, 'totalLevel': 82, 'won': True, 'gameTime': 2105467}}\n",
      "{'100': {'inhibKills': 1, 'towerKills': 8, 'teamID': 100, 'baronKills': 1, 'dragonKills': 4, 'assists': 45, 'championsKills': 26, 'totalGold': 78708, 'deaths': 18, 'totalDamage': 1111361.69140625, 'totalLevel': 86, 'won': True, 'gameTime': 2425553}, '200': {'inhibKills': 0, 'towerKills': 2, 'teamID': 200, 'baronKills': 1, 'dragonKills': 2, 'assists': 33, 'championsKills': 18, 'totalGold': 68390, 'deaths': 26, 'totalDamage': 878251.833984375, 'totalLevel': 82, 'won': False, 'gameTime': 2425553}}\n",
      "{'100': {'inhibKills': 1, 'towerKills': 8, 'teamID': 100, 'baronKills': 1, 'assists': 32, 'dragonKills': 2, 'championsKills': 14, 'totalGold': 50749, 'deaths': 7, 'totalDamage': 636802.7421875, 'totalLevel': 67, 'won': True, 'gameTime': 1479750}, '200': {'inhibKills': 0, 'towerKills': 1, 'teamID': 200, 'baronKills': 0, 'assists': 18, 'dragonKills': 1, 'championsKills': 7, 'totalGold': 39012, 'deaths': 14, 'totalDamage': 453414.810546875, 'totalLevel': 59, 'won': False, 'gameTime': 1479750}}\n",
      "{'100': {'inhibKills': 3, 'towerKills': 10, 'teamID': 100, 'baronKills': 2, 'dragonKills': 5, 'assists': 38, 'championsKills': 20, 'totalGold': 65990, 'deaths': 8, 'totalDamage': 841058.939453125, 'totalLevel': 81, 'won': True, 'gameTime': 1933299}, '200': {'inhibKills': 0, 'towerKills': 0, 'teamID': 200, 'baronKills': 0, 'dragonKills': 0, 'assists': 20, 'championsKills': 8, 'totalGold': 50912, 'deaths': 20, 'totalDamage': 738274.005859375, 'totalLevel': 70, 'won': False, 'gameTime': 1933299}}\n",
      "{'100': {'inhibKills': 2, 'towerKills': 10, 'teamID': 100, 'baronKills': 1, 'assists': 52, 'dragonKills': 4, 'championsKills': 19, 'totalGold': 59565, 'deaths': 5, 'totalDamage': 780982.13671875, 'totalLevel': 76, 'won': True, 'gameTime': 1706289}, '200': {'inhibKills': 0, 'towerKills': 3, 'teamID': 200, 'baronKills': 0, 'assists': 11, 'dragonKills': 0, 'championsKills': 5, 'totalGold': 48313, 'deaths': 19, 'totalDamage': 726619.5380859375, 'totalLevel': 67, 'won': False, 'gameTime': 1706289}}\n",
      "{'100': {'inhibKills': 0, 'towerKills': 0, 'teamID': 100, 'baronKills': 0, 'assists': 43, 'dragonKills': 1, 'totalGold': 59383, 'championsKills': 17, 'deaths': 29, 'totalDamage': 822406.83203125, 'totalLevel': 75, 'won': False, 'gameTime': 2130226}, '200': {'inhibKills': 2, 'towerKills': 10, 'teamID': 200, 'baronKills': 2, 'assists': 73, 'dragonKills': 4, 'totalGold': 70279, 'championsKills': 29, 'deaths': 17, 'totalDamage': 938831.861328125, 'totalLevel': 82, 'won': True, 'gameTime': 2130226}}\n",
      "{'100': {'inhibKills': 0, 'towerKills': 1, 'teamID': 100, 'baronKills': 0, 'dragonKills': 3, 'assists': 18, 'totalGold': 44715, 'championsKills': 11, 'deaths': 29, 'totalDamage': 561212.04296875, 'totalLevel': 63, 'won': False, 'gameTime': 1615429}, '200': {'inhibKills': 1, 'towerKills': 9, 'teamID': 200, 'baronKills': 1, 'dragonKills': 1, 'assists': 84, 'totalGold': 57787, 'championsKills': 29, 'deaths': 11, 'totalDamage': 620406.431640625, 'totalLevel': 70, 'won': True, 'gameTime': 1615429}}\n",
      "{'100': {'inhibKills': 0, 'towerKills': 0, 'teamID': 100, 'baronKills': 0, 'dragonKills': 1, 'assists': 5, 'championsKills': 2, 'totalGold': 38478, 'deaths': 13, 'totalDamage': 512309.21533203125, 'totalLevel': 64, 'won': False, 'gameTime': 1554876}, '200': {'inhibKills': 2, 'towerKills': 9, 'teamID': 200, 'baronKills': 0, 'dragonKills': 2, 'assists': 22, 'championsKills': 13, 'totalGold': 50663, 'deaths': 2, 'totalDamage': 644889.525390625, 'totalLevel': 66, 'won': True, 'gameTime': 1554876}}\n",
      "{'100': {'inhibKills': 0, 'towerKills': 0, 'teamID': 100, 'baronKills': 0, 'assists': 22, 'dragonKills': 0, 'championsKills': 8, 'totalGold': 40187, 'deaths': 18, 'totalDamage': 462816.005859375, 'totalLevel': 59, 'won': False, 'gameTime': 1562955}, '200': {'inhibKills': 2, 'towerKills': 9, 'teamID': 200, 'baronKills': 1, 'assists': 50, 'dragonKills': 4, 'championsKills': 18, 'totalGold': 51809, 'deaths': 9, 'totalDamage': 587167.240234375, 'totalLevel': 69, 'won': True, 'gameTime': 1562955}}\n",
      "{'100': {'inhibKills': 2, 'towerKills': 8, 'teamID': 100, 'baronKills': 2, 'dragonKills': 2, 'assists': 27, 'championsKills': 14, 'totalGold': 62315, 'deaths': 5, 'totalDamage': 802177.05859375, 'totalLevel': 80, 'won': True, 'gameTime': 2036836}, '200': {'inhibKills': 0, 'towerKills': 2, 'teamID': 200, 'baronKills': 0, 'dragonKills': 3, 'assists': 12, 'championsKills': 5, 'totalGold': 53653, 'deaths': 14, 'totalDamage': 804170.3203125, 'totalLevel': 73, 'won': False, 'gameTime': 2036836}}\n",
      "{'100': {'inhibKills': 1, 'towerKills': 9, 'teamID': 100, 'baronKills': 1, 'assists': 31, 'dragonKills': 1, 'totalGold': 51125, 'championsKills': 16, 'deaths': 9, 'totalDamage': 597298.666015625, 'totalLevel': 68, 'won': True, 'gameTime': 1554004}, '200': {'inhibKills': 0, 'towerKills': 1, 'teamID': 200, 'baronKills': 0, 'assists': 10, 'dragonKills': 2, 'totalGold': 40897, 'championsKills': 9, 'deaths': 16, 'totalDamage': 479162.001953125, 'totalLevel': 63, 'won': False, 'gameTime': 1554004}}\n",
      "{'100': {'inhibKills': 0, 'towerKills': 3, 'teamID': 100, 'baronKills': 0, 'dragonKills': 2, 'assists': 19, 'championsKills': 10, 'totalGold': 50843, 'deaths': 12, 'totalDamage': 726135.0126953125, 'totalLevel': 71, 'won': False, 'gameTime': 1866358}, '200': {'inhibKills': 1, 'towerKills': 9, 'teamID': 200, 'baronKills': 1, 'dragonKills': 3, 'assists': 26, 'championsKills': 12, 'totalGold': 60556, 'deaths': 10, 'totalDamage': 823806.234375, 'totalLevel': 77, 'won': True, 'gameTime': 1866358}}\n",
      "{'100': {'inhibKills': 2, 'towerKills': 11, 'teamID': 100, 'baronKills': 1, 'dragonKills': 3, 'assists': 41, 'championsKills': 16, 'totalGold': 56299, 'deaths': 5, 'totalDamage': 717821.595703125, 'totalLevel': 72, 'won': True, 'gameTime': 1627349}, '200': {'inhibKills': 0, 'towerKills': 1, 'teamID': 200, 'baronKills': 0, 'dragonKills': 0, 'assists': 7, 'championsKills': 5, 'totalGold': 42885, 'deaths': 16, 'totalDamage': 570751.9375, 'totalLevel': 66, 'won': False, 'gameTime': 1627349}}\n",
      "{'100': {'inhibKills': 0, 'towerKills': 5, 'teamID': 100, 'baronKills': 1, 'dragonKills': 3, 'assists': 32, 'championsKills': 11, 'totalGold': 69855, 'deaths': 16, 'totalDamage': 1127587.169921875, 'totalLevel': 82, 'won': False, 'gameTime': 2376162}, '200': {'inhibKills': 1, 'towerKills': 7, 'teamID': 200, 'baronKills': 1, 'dragonKills': 3, 'assists': 46, 'championsKills': 16, 'totalGold': 73605, 'deaths': 11, 'totalDamage': 1177024.98828125, 'totalLevel': 86, 'won': True, 'gameTime': 2376162}}\n",
      "{'100': {'inhibKills': 0, 'towerKills': 5, 'teamID': 100, 'baronKills': 1, 'assists': 41, 'dragonKills': 2, 'championsKills': 17, 'totalGold': 63689, 'deaths': 17, 'totalDamage': 872508.1767578125, 'totalLevel': 79, 'won': False, 'gameTime': 2198602}, '200': {'inhibKills': 1, 'towerKills': 8, 'teamID': 200, 'baronKills': 1, 'assists': 33, 'dragonKills': 3, 'championsKills': 17, 'totalGold': 67689, 'deaths': 17, 'totalDamage': 947127.44140625, 'totalLevel': 81, 'won': True, 'gameTime': 2198602}}\n",
      "{'100': {'inhibKills': 2, 'towerKills': 10, 'teamID': 100, 'baronKills': 1, 'assists': 44, 'dragonKills': 2, 'totalGold': 56936, 'championsKills': 22, 'deaths': 9, 'totalDamage': 730945.599609375, 'totalLevel': 73, 'won': True, 'gameTime': 1646925}, '200': {'inhibKills': 0, 'towerKills': 0, 'teamID': 200, 'baronKills': 0, 'assists': 17, 'dragonKills': 2, 'totalGold': 43505, 'championsKills': 9, 'deaths': 22, 'totalDamage': 566346.734375, 'totalLevel': 66, 'won': False, 'gameTime': 1646925}}\n",
      "{'100': {'inhibKills': 1, 'towerKills': 8, 'teamID': 100, 'baronKills': 1, 'dragonKills': 2, 'assists': 47, 'totalGold': 59629, 'championsKills': 20, 'deaths': 7, 'totalDamage': 767267.1328125, 'totalLevel': 76, 'won': True, 'gameTime': 1800723}, '200': {'inhibKills': 0, 'towerKills': 1, 'teamID': 200, 'baronKills': 0, 'dragonKills': 3, 'assists': 15, 'totalGold': 47922, 'championsKills': 7, 'deaths': 20, 'totalDamage': 641199.1875, 'totalLevel': 68, 'won': False, 'gameTime': 1800723}}\n",
      "{'100': {'inhibKills': 0, 'towerKills': 2, 'teamID': 100, 'baronKills': 0, 'dragonKills': 1, 'assists': 23, 'championsKills': 11, 'totalGold': 53599, 'deaths': 21, 'totalDamage': 700688.556640625, 'totalLevel': 73, 'won': False, 'gameTime': 1945629}, '200': {'inhibKills': 1, 'towerKills': 9, 'teamID': 200, 'baronKills': 1, 'dragonKills': 4, 'assists': 50, 'championsKills': 21, 'totalGold': 62985, 'deaths': 13, 'totalDamage': 935727.177734375, 'totalLevel': 79, 'won': True, 'gameTime': 1945629}}\n",
      "{'100': {'inhibKills': 1, 'towerKills': 8, 'teamID': 100, 'baronKills': 1, 'assists': 50, 'dragonKills': 1, 'championsKills': 21, 'totalGold': 51838, 'deaths': 8, 'totalDamage': 576642.8671875, 'totalLevel': 68, 'won': True, 'gameTime': 1476209}, '200': {'inhibKills': 0, 'towerKills': 0, 'teamID': 200, 'baronKills': 0, 'assists': 23, 'dragonKills': 2, 'championsKills': 8, 'totalGold': 37531, 'deaths': 21, 'totalDamage': 479486.80859375, 'totalLevel': 58, 'won': False, 'gameTime': 1476209}}\n",
      "{'100': {'inhibKills': 0, 'towerKills': 5, 'teamID': 100, 'baronKills': 0, 'assists': 37, 'dragonKills': 2, 'championsKills': 23, 'totalGold': 60742, 'deaths': 28, 'totalDamage': 714221.748046875, 'totalLevel': 71, 'won': False, 'gameTime': 2009209}, '200': {'inhibKills': 1, 'towerKills': 7, 'teamID': 200, 'baronKills': 2, 'assists': 69, 'dragonKills': 3, 'championsKills': 28, 'totalGold': 65835, 'deaths': 23, 'totalDamage': 745769.806640625, 'totalLevel': 78, 'won': True, 'gameTime': 2009209}}\n",
      "{'100': {'inhibKills': 1, 'towerKills': 10, 'teamID': 100, 'baronKills': 2, 'dragonKills': 1, 'assists': 32, 'totalGold': 59840, 'championsKills': 13, 'deaths': 6, 'totalDamage': 754848.17578125, 'totalLevel': 76, 'won': True, 'gameTime': 1839312}, '200': {'inhibKills': 0, 'towerKills': 4, 'teamID': 200, 'baronKills': 0, 'dragonKills': 3, 'assists': 15, 'totalGold': 49908, 'championsKills': 6, 'deaths': 13, 'totalDamage': 683169.123046875, 'totalLevel': 66, 'won': False, 'gameTime': 1839312}}\n",
      "{'100': {'inhibKills': 2, 'towerKills': 6, 'teamID': 100, 'baronKills': 1, 'assists': 66, 'dragonKills': 3, 'championsKills': 23, 'totalGold': 87443, 'deaths': 19, 'totalDamage': 1302825.32421875, 'totalLevel': 88, 'won': False, 'gameTime': 3012712}, '200': {'inhibKills': 1, 'towerKills': 7, 'teamID': 200, 'baronKills': 3, 'assists': 51, 'dragonKills': 5, 'championsKills': 19, 'totalGold': 90536, 'deaths': 23, 'totalDamage': 1456187.751953125, 'totalLevel': 89, 'won': True, 'gameTime': 3012712}}\n",
      "{'100': {'inhibKills': 1, 'towerKills': 8, 'teamID': 100, 'baronKills': 1, 'dragonKills': 3, 'assists': 38, 'totalGold': 51445, 'championsKills': 17, 'deaths': 3, 'totalDamage': 566313.8359375, 'totalLevel': 68, 'won': True, 'gameTime': 1512428}, '200': {'inhibKills': 0, 'towerKills': 1, 'teamID': 200, 'baronKills': 0, 'dragonKills': 1, 'assists': 8, 'totalGold': 38153, 'championsKills': 3, 'deaths': 17, 'totalDamage': 492223.0556640625, 'totalLevel': 61, 'won': False, 'gameTime': 1512428}}\n",
      "{'100': {'inhibKills': 1, 'towerKills': 9, 'teamID': 100, 'baronKills': 1, 'dragonKills': 3, 'assists': 55, 'championsKills': 22, 'totalGold': 57398, 'deaths': 3, 'totalDamage': 716850.134765625, 'totalLevel': 73, 'won': True, 'gameTime': 1587740}, '200': {'inhibKills': 0, 'towerKills': 1, 'teamID': 200, 'baronKills': 0, 'dragonKills': 0, 'assists': 5, 'championsKills': 3, 'totalGold': 40068, 'deaths': 22, 'totalDamage': 491973.1416015625, 'totalLevel': 63, 'won': False, 'gameTime': 1587740}}\n",
      "{'100': {'inhibKills': 0, 'towerKills': 1, 'teamID': 100, 'baronKills': 0, 'assists': 18, 'dragonKills': 1, 'championsKills': 8, 'totalGold': 40871, 'deaths': 17, 'totalDamage': 511423.5322265625, 'totalLevel': 63, 'won': False, 'gameTime': 1557402}, '200': {'inhibKills': 2, 'towerKills': 10, 'teamID': 200, 'baronKills': 1, 'assists': 40, 'dragonKills': 3, 'championsKills': 17, 'totalGold': 51561, 'deaths': 8, 'totalDamage': 610629.439453125, 'totalLevel': 69, 'won': True, 'gameTime': 1557402}}\n",
      "{'100': {'inhibKills': 1, 'towerKills': 6, 'teamID': 100, 'baronKills': 0, 'dragonKills': 1, 'assists': 15, 'championsKills': 9, 'totalGold': 63017, 'deaths': 15, 'totalDamage': 939080.90625, 'totalLevel': 77, 'won': False, 'gameTime': 2039943}, '200': {'inhibKills': 3, 'towerKills': 11, 'teamID': 200, 'baronKills': 2, 'dragonKills': 3, 'assists': 37, 'championsKills': 15, 'totalGold': 66349, 'deaths': 9, 'totalDamage': 899744.54296875, 'totalLevel': 83, 'won': True, 'gameTime': 2039943}}\n",
      "{'100': {'inhibKills': 1, 'towerKills': 7, 'teamID': 100, 'baronKills': 1, 'dragonKills': 3, 'assists': 33, 'championsKills': 16, 'totalGold': 56533, 'deaths': 17, 'totalDamage': 674057.10546875, 'totalLevel': 71, 'won': False, 'gameTime': 1842311}, '200': {'inhibKills': 1, 'towerKills': 7, 'teamID': 200, 'baronKills': 1, 'dragonKills': 1, 'assists': 35, 'championsKills': 16, 'totalGold': 58218, 'deaths': 16, 'totalDamage': 745972.34375, 'totalLevel': 76, 'won': True, 'gameTime': 1842311}}\n",
      "{'100': {'inhibKills': 2, 'towerKills': 10, 'teamID': 100, 'baronKills': 1, 'dragonKills': 1, 'assists': 71, 'championsKills': 26, 'totalGold': 67008, 'deaths': 17, 'totalDamage': 825298.916015625, 'totalLevel': 78, 'won': True, 'gameTime': 1966998}, '200': {'inhibKills': 0, 'towerKills': 6, 'teamID': 200, 'baronKills': 1, 'dragonKills': 3, 'assists': 38, 'championsKills': 17, 'totalGold': 59510, 'deaths': 26, 'totalDamage': 683317.953125, 'totalLevel': 72, 'won': False, 'gameTime': 1966998}}\n",
      "{'100': {'inhibKills': 2, 'towerKills': 9, 'teamID': 100, 'baronKills': 1, 'dragonKills': 2, 'assists': 59, 'championsKills': 22, 'totalGold': 67825, 'deaths': 23, 'totalDamage': 861864.783203125, 'totalLevel': 80, 'won': False, 'gameTime': 2135516}, '200': {'inhibKills': 1, 'towerKills': 6, 'teamID': 200, 'baronKills': 0, 'dragonKills': 4, 'assists': 56, 'championsKills': 23, 'totalGold': 68218, 'deaths': 22, 'totalDamage': 985687.494140625, 'totalLevel': 83, 'won': True, 'gameTime': 2135516}}\n",
      "{'100': {'inhibKills': 0, 'towerKills': 2, 'teamID': 100, 'baronKills': 0, 'assists': 9, 'dragonKills': 1, 'championsKills': 9, 'totalGold': 43102, 'deaths': 22, 'totalDamage': 560079.603515625, 'totalLevel': 63, 'won': False, 'gameTime': 1590544}, '200': {'inhibKills': 2, 'towerKills': 10, 'teamID': 200, 'baronKills': 1, 'assists': 39, 'dragonKills': 3, 'championsKills': 22, 'totalGold': 58567, 'deaths': 9, 'totalDamage': 735648.716796875, 'totalLevel': 74, 'won': True, 'gameTime': 1590544}}\n",
      "{'100': {'inhibKills': 0, 'towerKills': 4, 'teamID': 100, 'baronKills': 0, 'dragonKills': 1, 'assists': 14, 'championsKills': 7, 'totalGold': 46420, 'deaths': 19, 'totalDamage': 592271.1328125, 'totalLevel': 66, 'won': False, 'gameTime': 1651289}, '200': {'inhibKills': 2, 'towerKills': 10, 'teamID': 200, 'baronKills': 1, 'dragonKills': 3, 'assists': 40, 'championsKills': 19, 'totalGold': 54858, 'deaths': 7, 'totalDamage': 669953.591796875, 'totalLevel': 73, 'won': True, 'gameTime': 1651289}}\n",
      "{'100': {'inhibKills': 2, 'towerKills': 10, 'teamID': 100, 'baronKills': 1, 'dragonKills': 3, 'assists': 36, 'championsKills': 16, 'totalGold': 68044, 'deaths': 5, 'totalDamage': 1011881.271484375, 'totalLevel': 82, 'won': True, 'gameTime': 2024554}, '200': {'inhibKills': 0, 'towerKills': 3, 'teamID': 200, 'baronKills': 0, 'dragonKills': 1, 'assists': 9, 'championsKills': 5, 'totalGold': 57557, 'deaths': 16, 'totalDamage': 865285.5859375, 'totalLevel': 77, 'won': False, 'gameTime': 2024554}}\n",
      "{'100': {'inhibKills': 1, 'towerKills': 9, 'teamID': 100, 'baronKills': 1, 'dragonKills': 2, 'assists': 29, 'totalGold': 46306, 'championsKills': 13, 'deaths': 4, 'totalDamage': 530939.494140625, 'totalLevel': 64, 'won': True, 'gameTime': 1448951}, '200': {'inhibKills': 0, 'towerKills': 2, 'teamID': 200, 'baronKills': 0, 'dragonKills': 0, 'assists': 9, 'totalGold': 38484, 'championsKills': 4, 'deaths': 13, 'totalDamage': 499686.68359375, 'totalLevel': 60, 'won': False, 'gameTime': 1448951}}\n",
      "{'100': {'inhibKills': 3, 'towerKills': 10, 'teamID': 100, 'baronKills': 2, 'dragonKills': 4, 'assists': 39, 'totalGold': 71156, 'championsKills': 16, 'deaths': 11, 'totalDamage': 1008489.2890625, 'totalLevel': 83, 'won': True, 'gameTime': 2274646}, '200': {'inhibKills': 0, 'towerKills': 3, 'teamID': 200, 'baronKills': 0, 'dragonKills': 1, 'assists': 22, 'totalGold': 65272, 'championsKills': 11, 'deaths': 16, 'totalDamage': 888074.126953125, 'totalLevel': 80, 'won': False, 'gameTime': 2274646}}\n",
      "{'100': {'inhibKills': 1, 'towerKills': 7, 'teamID': 100, 'baronKills': 1, 'dragonKills': 2, 'assists': 46, 'championsKills': 18, 'totalGold': 53379, 'deaths': 18, 'totalDamage': 593100.662109375, 'totalLevel': 70, 'won': True, 'gameTime': 1712519}, '200': {'inhibKills': 0, 'towerKills': 5, 'teamID': 200, 'baronKills': 0, 'dragonKills': 2, 'assists': 40, 'championsKills': 18, 'totalGold': 51348, 'deaths': 18, 'totalDamage': 617996.216796875, 'totalLevel': 64, 'won': False, 'gameTime': 1712519}}\n",
      "{'100': {'inhibKills': 1, 'towerKills': 7, 'teamID': 100, 'baronKills': 1, 'dragonKills': 3, 'assists': 44, 'totalGold': 60282, 'championsKills': 19, 'deaths': 12, 'totalDamage': 756690.751953125, 'totalLevel': 77, 'won': True, 'gameTime': 1947234}, '200': {'inhibKills': 0, 'towerKills': 4, 'teamID': 200, 'baronKills': 0, 'dragonKills': 1, 'assists': 22, 'totalGold': 57410, 'championsKills': 11, 'deaths': 20, 'totalDamage': 785522.490234375, 'totalLevel': 74, 'won': False, 'gameTime': 1947234}}\n",
      "{'100': {'inhibKills': 1, 'towerKills': 9, 'teamID': 100, 'baronKills': 2, 'dragonKills': 2, 'assists': 44, 'championsKills': 20, 'totalGold': 69115, 'deaths': 15, 'totalDamage': 1027925.533203125, 'totalLevel': 84, 'won': True, 'gameTime': 2077375}, '200': {'inhibKills': 0, 'towerKills': 2, 'teamID': 200, 'baronKills': 0, 'dragonKills': 3, 'assists': 33, 'championsKills': 15, 'totalGold': 57522, 'deaths': 20, 'totalDamage': 775669.333984375, 'totalLevel': 74, 'won': False, 'gameTime': 2077375}}\n",
      "{'100': {'inhibKills': 1, 'towerKills': 8, 'teamID': 100, 'baronKills': 1, 'dragonKills': 4, 'assists': 58, 'championsKills': 21, 'totalGold': 62307, 'deaths': 12, 'totalDamage': 838643.607421875, 'totalLevel': 77, 'won': True, 'gameTime': 1969258}, '200': {'inhibKills': 0, 'towerKills': 2, 'teamID': 200, 'baronKills': 0, 'dragonKills': 1, 'assists': 18, 'championsKills': 12, 'totalGold': 53828, 'deaths': 21, 'totalDamage': 763367.3359375, 'totalLevel': 72, 'won': False, 'gameTime': 1969258}}\n",
      "{'100': {'inhibKills': 0, 'towerKills': 3, 'teamID': 100, 'baronKills': 0, 'assists': 15, 'dragonKills': 0, 'championsKills': 8, 'totalGold': 47275, 'deaths': 23, 'totalDamage': 614861.6650390625, 'totalLevel': 66, 'won': False, 'gameTime': 1697059}, '200': {'inhibKills': 2, 'towerKills': 10, 'teamID': 200, 'baronKills': 1, 'assists': 71, 'dragonKills': 4, 'championsKills': 23, 'totalGold': 59242, 'deaths': 9, 'totalDamage': 792906.087890625, 'totalLevel': 73, 'won': True, 'gameTime': 1697059}}\n",
      "{'100': {'inhibKills': 0, 'towerKills': 3, 'teamID': 100, 'baronKills': 0, 'dragonKills': 3, 'assists': 39, 'championsKills': 19, 'totalGold': 72563, 'deaths': 24, 'totalDamage': 1129804.2783203125, 'totalLevel': 84, 'won': False, 'gameTime': 2388585}, '200': {'inhibKills': 2, 'towerKills': 10, 'teamID': 200, 'baronKills': 3, 'dragonKills': 2, 'assists': 54, 'championsKills': 24, 'totalGold': 78661, 'deaths': 20, 'totalDamage': 1185089.951171875, 'totalLevel': 86, 'won': True, 'gameTime': 2388585}}\n",
      "{'100': {'inhibKills': 1, 'towerKills': 9, 'teamID': 100, 'baronKills': 0, 'dragonKills': 2, 'assists': 42, 'championsKills': 19, 'totalGold': 43469, 'deaths': 4, 'totalDamage': 401249.71875, 'totalLevel': 55, 'won': True, 'gameTime': 1212862}, '200': {'inhibKills': 0, 'towerKills': 1, 'teamID': 200, 'baronKills': 0, 'dragonKills': 1, 'assists': 5, 'championsKills': 4, 'totalGold': 28436, 'deaths': 19, 'totalDamage': 294092.7783203125, 'totalLevel': 50, 'won': False, 'gameTime': 1212862}}\n",
      "{'100': {'inhibKills': 1, 'towerKills': 6, 'teamID': 100, 'baronKills': 0, 'assists': 20, 'dragonKills': 1, 'championsKills': 9, 'totalGold': 44258, 'deaths': 9, 'totalDamage': 559325.626953125, 'totalLevel': 63, 'won': True, 'gameTime': 1463330}, '200': {'inhibKills': 0, 'towerKills': 1, 'teamID': 200, 'baronKills': 0, 'assists': 22, 'dragonKills': 2, 'championsKills': 9, 'totalGold': 41464, 'deaths': 9, 'totalDamage': 518662.0478515625, 'totalLevel': 63, 'won': False, 'gameTime': 1463330}}\n",
      "{'100': {'inhibKills': 1, 'towerKills': 8, 'teamID': 100, 'baronKills': 1, 'dragonKills': 3, 'assists': 35, 'totalGold': 58626, 'championsKills': 15, 'deaths': 9, 'totalDamage': 818683.83984375, 'totalLevel': 77, 'won': True, 'gameTime': 1768465}, '200': {'inhibKills': 0, 'towerKills': 0, 'teamID': 200, 'baronKills': 0, 'dragonKills': 1, 'assists': 19, 'totalGold': 49683, 'championsKills': 9, 'deaths': 15, 'totalDamage': 645420.57421875, 'totalLevel': 69, 'won': False, 'gameTime': 1768465}}\n",
      "{'100': {'inhibKills': 0, 'towerKills': 2, 'teamID': 100, 'baronKills': 0, 'assists': 17, 'dragonKills': 1, 'championsKills': 7, 'totalGold': 42645, 'deaths': 17, 'totalDamage': 539485.4580078125, 'totalLevel': 64, 'won': False, 'gameTime': 1621471}, '200': {'inhibKills': 3, 'towerKills': 11, 'teamID': 200, 'baronKills': 1, 'assists': 33, 'dragonKills': 3, 'championsKills': 17, 'totalGold': 56126, 'deaths': 7, 'totalDamage': 703069.966796875, 'totalLevel': 72, 'won': True, 'gameTime': 1621471}}\n",
      "{'100': {'inhibKills': 2, 'towerKills': 8, 'teamID': 100, 'baronKills': 1, 'assists': 59, 'dragonKills': 3, 'championsKills': 23, 'totalGold': 61528, 'deaths': 5, 'totalDamage': 814346.791015625, 'totalLevel': 76, 'won': True, 'gameTime': 1830843}, '200': {'inhibKills': 0, 'towerKills': 1, 'teamID': 200, 'baronKills': 0, 'assists': 17, 'dragonKills': 0, 'championsKills': 5, 'totalGold': 46374, 'deaths': 23, 'totalDamage': 610931.849609375, 'totalLevel': 66, 'won': False, 'gameTime': 1830843}}\n",
      "{'100': {'inhibKills': 0, 'towerKills': 2, 'teamID': 100, 'baronKills': 0, 'dragonKills': 1, 'assists': 1, 'championsKills': 1, 'totalGold': 37120, 'deaths': 11, 'totalDamage': 445200.25, 'totalLevel': 59, 'won': False, 'gameTime': 1352271}, '200': {'inhibKills': 1, 'towerKills': 7, 'teamID': 200, 'baronKills': 1, 'dragonKills': 2, 'assists': 21, 'championsKills': 11, 'totalGold': 46148, 'deaths': 1, 'totalDamage': 615726.775390625, 'totalLevel': 65, 'won': True, 'gameTime': 1352271}}\n",
      "{'100': {'inhibKills': 0, 'towerKills': 2, 'teamID': 100, 'baronKills': 0, 'assists': 3, 'dragonKills': 0, 'championsKills': 2, 'totalGold': 36710, 'deaths': 14, 'totalDamage': 453123.5869140625, 'totalLevel': 57, 'won': False, 'gameTime': 1378980}, '200': {'inhibKills': 1, 'towerKills': 7, 'teamID': 200, 'baronKills': 1, 'assists': 29, 'dragonKills': 3, 'championsKills': 14, 'totalGold': 45321, 'deaths': 2, 'totalDamage': 539134.2099609375, 'totalLevel': 66, 'won': True, 'gameTime': 1378980}}\n",
      "{'100': {'inhibKills': 1, 'towerKills': 7, 'teamID': 100, 'baronKills': 0, 'dragonKills': 3, 'assists': 63, 'championsKills': 23, 'totalGold': 80750, 'deaths': 14, 'totalDamage': 1256434.197265625, 'totalLevel': 86, 'won': True, 'gameTime': 2615944}, '200': {'inhibKills': 0, 'towerKills': 5, 'teamID': 200, 'baronKills': 2, 'dragonKills': 4, 'assists': 31, 'championsKills': 14, 'totalGold': 78425, 'deaths': 23, 'totalDamage': 1215924.986328125, 'totalLevel': 85, 'won': False, 'gameTime': 2615944}}\n",
      "{'100': {'inhibKills': 2, 'towerKills': 8, 'teamID': 100, 'baronKills': 1, 'dragonKills': 1, 'assists': 51, 'championsKills': 22, 'totalGold': 51629, 'deaths': 4, 'totalDamage': 543853.0146484375, 'totalLevel': 68, 'won': True, 'gameTime': 1398524}, '200': {'inhibKills': 0, 'towerKills': 2, 'teamID': 200, 'baronKills': 0, 'dragonKills': 1, 'assists': 9, 'championsKills': 4, 'totalGold': 35557, 'deaths': 22, 'totalDamage': 460604.0791015625, 'totalLevel': 59, 'won': False, 'gameTime': 1398524}}\n",
      "{'100': {'inhibKills': 1, 'towerKills': 7, 'teamID': 100, 'baronKills': 0, 'dragonKills': 2, 'assists': 25, 'championsKills': 13, 'totalGold': 49902, 'deaths': 4, 'totalDamage': 640885.548828125, 'totalLevel': 67, 'won': True, 'gameTime': 1555302}, '200': {'inhibKills': 0, 'towerKills': 1, 'teamID': 200, 'baronKills': 0, 'dragonKills': 2, 'assists': 8, 'championsKills': 4, 'totalGold': 40661, 'deaths': 13, 'totalDamage': 557496.701171875, 'totalLevel': 62, 'won': False, 'gameTime': 1555302}}\n",
      "{'100': {'inhibKills': 0, 'towerKills': 4, 'teamID': 100, 'baronKills': 0, 'assists': 23, 'dragonKills': 2, 'championsKills': 11, 'totalGold': 53720, 'deaths': 17, 'totalDamage': 736257.322265625, 'totalLevel': 71, 'won': False, 'gameTime': 1893371}, '200': {'inhibKills': 1, 'towerKills': 6, 'teamID': 200, 'baronKills': 1, 'assists': 36, 'dragonKills': 2, 'championsKills': 17, 'totalGold': 62540, 'deaths': 11, 'totalDamage': 903582.587890625, 'totalLevel': 81, 'won': True, 'gameTime': 1893371}}\n",
      "{'100': {'inhibKills': 0, 'towerKills': 4, 'teamID': 100, 'baronKills': 0, 'assists': 24, 'dragonKills': 1, 'championsKills': 11, 'totalGold': 60771, 'deaths': 21, 'totalDamage': 906245.6875, 'totalLevel': 77, 'won': False, 'gameTime': 2104164}, '200': {'inhibKills': 1, 'towerKills': 8, 'teamID': 200, 'baronKills': 2, 'assists': 50, 'dragonKills': 4, 'championsKills': 21, 'totalGold': 70513, 'deaths': 11, 'totalDamage': 941942.58203125, 'totalLevel': 84, 'won': True, 'gameTime': 2104164}}\n",
      "{'100': {'inhibKills': 2, 'towerKills': 9, 'teamID': 100, 'baronKills': 1, 'dragonKills': 4, 'assists': 43, 'championsKills': 17, 'totalGold': 56567, 'deaths': 3, 'totalDamage': 718836.658203125, 'totalLevel': 74, 'won': True, 'gameTime': 1733395}, '200': {'inhibKills': 0, 'towerKills': 2, 'teamID': 200, 'baronKills': 0, 'dragonKills': 0, 'assists': 11, 'championsKills': 3, 'totalGold': 44868, 'deaths': 17, 'totalDamage': 608542.49609375, 'totalLevel': 63, 'won': False, 'gameTime': 1733395}}\n",
      "{'100': {'inhibKills': 4, 'towerKills': 11, 'teamID': 100, 'baronKills': 2, 'assists': 58, 'dragonKills': 3, 'championsKills': 24, 'totalGold': 63414, 'deaths': 11, 'totalDamage': 758607.669921875, 'totalLevel': 78, 'won': True, 'gameTime': 1806496}, '200': {'inhibKills': 0, 'towerKills': 1, 'teamID': 200, 'baronKills': 0, 'assists': 29, 'dragonKills': 1, 'championsKills': 11, 'totalGold': 49937, 'deaths': 24, 'totalDamage': 702708.9296875, 'totalLevel': 70, 'won': False, 'gameTime': 1806496}}\n",
      "{'100': {'inhibKills': 0, 'towerKills': 2, 'teamID': 100, 'baronKills': 0, 'dragonKills': 0, 'assists': 8, 'championsKills': 4, 'totalGold': 44344, 'deaths': 14, 'totalDamage': 602077.04296875, 'totalLevel': 63, 'won': False, 'gameTime': 1670939}, '200': {'inhibKills': 1, 'towerKills': 7, 'teamID': 200, 'baronKills': 1, 'dragonKills': 4, 'assists': 30, 'championsKills': 14, 'totalGold': 53687, 'deaths': 4, 'totalDamage': 764223.8251953125, 'totalLevel': 74, 'won': True, 'gameTime': 1670939}}\n",
      "{'100': {'inhibKills': 2, 'towerKills': 9, 'teamID': 100, 'baronKills': 1, 'dragonKills': 3, 'assists': 41, 'championsKills': 16, 'totalGold': 62812, 'deaths': 7, 'totalDamage': 842555.5078125, 'totalLevel': 79, 'won': True, 'gameTime': 1915942}, '200': {'inhibKills': 0, 'towerKills': 2, 'teamID': 200, 'baronKills': 0, 'dragonKills': 1, 'assists': 18, 'championsKills': 7, 'totalGold': 51763, 'deaths': 16, 'totalDamage': 789020.45703125, 'totalLevel': 71, 'won': False, 'gameTime': 1915942}}\n",
      "{'100': {'inhibKills': 2, 'towerKills': 10, 'teamID': 100, 'baronKills': 1, 'dragonKills': 4, 'assists': 41, 'totalGold': 63642, 'championsKills': 16, 'deaths': 11, 'totalDamage': 939617.396484375, 'totalLevel': 80, 'won': True, 'gameTime': 1872343}, '200': {'inhibKills': 0, 'towerKills': 1, 'teamID': 200, 'baronKills': 0, 'dragonKills': 1, 'assists': 22, 'totalGold': 53958, 'championsKills': 11, 'deaths': 16, 'totalDamage': 726751.673828125, 'totalLevel': 75, 'won': False, 'gameTime': 1872343}}\n",
      "{'100': {'inhibKills': 1, 'towerKills': 6, 'teamID': 100, 'baronKills': 1, 'dragonKills': 3, 'assists': 45, 'totalGold': 52980, 'championsKills': 16, 'deaths': 6, 'totalDamage': 726778.1728515625, 'totalLevel': 73, 'won': True, 'gameTime': 1651673}, '200': {'inhibKills': 0, 'towerKills': 3, 'teamID': 200, 'baronKills': 0, 'dragonKills': 1, 'assists': 12, 'totalGold': 45591, 'championsKills': 6, 'deaths': 16, 'totalDamage': 626925.537109375, 'totalLevel': 67, 'won': False, 'gameTime': 1651673}}\n",
      "{'100': {'inhibKills': 0, 'towerKills': 2, 'teamID': 100, 'baronKills': 1, 'dragonKills': 2, 'assists': 32, 'totalGold': 54085, 'championsKills': 15, 'deaths': 29, 'totalDamage': 704346.03125, 'totalLevel': 69, 'won': False, 'gameTime': 1788531}, '200': {'inhibKills': 1, 'towerKills': 8, 'teamID': 200, 'baronKills': 0, 'dragonKills': 2, 'assists': 72, 'totalGold': 61495, 'championsKills': 29, 'deaths': 15, 'totalDamage': 686228.93359375, 'totalLevel': 74, 'won': True, 'gameTime': 1788531}}\n",
      "{'100': {'inhibKills': 0, 'towerKills': 2, 'teamID': 100, 'baronKills': 0, 'dragonKills': 1, 'assists': 29, 'totalGold': 56851, 'championsKills': 16, 'deaths': 25, 'totalDamage': 726064.91796875, 'totalLevel': 72, 'won': False, 'gameTime': 2094572}, '200': {'inhibKills': 1, 'towerKills': 7, 'teamID': 200, 'baronKills': 1, 'dragonKills': 4, 'assists': 59, 'totalGold': 69541, 'championsKills': 25, 'deaths': 16, 'totalDamage': 895977.85546875, 'totalLevel': 82, 'won': True, 'gameTime': 2094572}}\n"
     ]
    }
   ],
   "source": [
    "team_data_dict = dict()\n",
    "\n",
    "with open('Data/game_mapping_data.json', 'r') as json_file:\n",
    "    team_mapping_data = json.load(json_file)\n",
    "\n",
    "# Iterate through all files in the directory\n",
    "for filename in os.listdir('games'):\n",
    "    # Create the full path to the file\n",
    "    file_path = os.path.join('games', filename)\n",
    "\n",
    "    with open(file_path, 'r', encoding='utf-8') as json_file:\n",
    "        game_data = json.load(json_file)\n",
    "\n",
    "\n",
    "    # we want: game_length, total_kills, total_assists, total_deaths, total_damage, total_gold, total_level, win or loss\n",
    "    game_id = game_data[\"game_end\"]['platformGameId']\n",
    "    team_mapping = team_mapping_data[game_id]\n",
    "    winning_team = str(game_data[\"game_end\"][\"winningTeam\"])\n",
    "    team_stats = {str(team['teamID']): team for team in game_data[\"end_stats\"]}\n",
    "\n",
    "    for key in team_stats:\n",
    "        team_stats[key][\"won\"] = key == winning_team\n",
    "        team_stats[key][\"gameTime\"] = game_data[\"game_end\"][\"gameTime\"]\n",
    "\n",
    "    for key, value in team_stats.items():\n",
    "        # print(type(key))\n",
    "        team_id = team_mapping[key]\n",
    "        if team_id in team_data_dict:\n",
    "            team_data_dict[team_id].append(value)\n",
    "        else:\n",
    "            team_data_dict[team_id] = [value]\n",
    "\n",
    "    print(team_stats)\n",
    "\n",
    "\n",
    "with open('Data/msi_2023_team_stats.json', 'w') as json_file:\n",
    "    json.dump(team_data_dict, json_file)\n",
    "\n"
   ],
   "metadata": {
    "collapsed": false
   }
  },
  {
   "cell_type": "code",
   "execution_count": 53,
   "outputs": [
    {
     "name": "stdout",
     "output_type": "stream",
     "text": [
      "76\n"
     ]
    }
   ],
   "source": [
    "count = 0\n",
    "for filename in os.listdir('games/'):\n",
    "    count += 1\n",
    "\n",
    "print(count)"
   ],
   "metadata": {
    "collapsed": false
   }
  },
  {
   "cell_type": "code",
   "execution_count": 63,
   "outputs": [],
   "source": [
    "# average all the stats for each team\n",
    "\n",
    "team_average_data = dict()\n",
    "\n",
    "with open(\"Data/msi_2023_team_stats.json\", 'r', encoding='utf-8') as json_file:\n",
    "    team_stats = json.load(json_file)\n",
    "\n",
    "for team, stats_list in team_stats.items():\n",
    "    average_stats = {\n",
    "      \"inhibKills\": 0,\n",
    "      \"towerKills\": 0,\n",
    "      \"baronKills\": 0,\n",
    "      \"assists\": 0,\n",
    "      \"dragonKills\": 0,\n",
    "      \"championsKills\": 0,\n",
    "      \"totalGold\": 0,\n",
    "      \"deaths\": 0,\n",
    "      \"totalDamage\": 0,\n",
    "      \"totalLevel\": 0,\n",
    "      \"gameTime\": 0\n",
    "    }\n",
    "\n",
    "    for key in average_stats.keys():\n",
    "        average_stats[key] = sum(stats[key] for stats in stats_list)\n",
    "        average_stats[key] /= len(stats_list)\n",
    "\n",
    "    average_stats[\"wins\"] = sum(stats[\"won\"] for stats in stats_list)\n",
    "    average_stats[\"losses\"] = len(stats_list) - average_stats[\"wins\"]\n",
    "\n",
    "    team_average_data[team] = average_stats\n",
    "\n",
    "with open('Data/msi_2023_average_team_stats.json', 'w') as json_file:\n",
    "    json.dump(team_average_data, json_file)\n"
   ],
   "metadata": {
    "collapsed": false
   }
  },
  {
   "cell_type": "code",
   "execution_count": 76,
   "outputs": [
    {
     "name": "stdout",
     "output_type": "stream",
     "text": [
      "[('Beijing JDG Intel Esports Club', 1.9653594654412818),\n",
      " ('Bilibili Gaming Pingan Bank', 1.6676915532823182),\n",
      " ('G2 Esports', 1.5754023362648737),\n",
      " ('Golden Guardians', 1.5721911369896167),\n",
      " ('Gen.G', 1.5590799162213564),\n",
      " ('T1', 1.4949498231538805),\n",
      " ('PSG Talon', 1.4322978679697056),\n",
      " ('Cloud9', 1.2741438416522382),\n",
      " ('GAM Esports', 1.2520488864903843),\n",
      " ('LOUD', 1.1627047578845437),\n",
      " ('DetonatioN FocusMe', 1.093296009574352),\n",
      " ('Movistar R7', 0.9679703133440348),\n",
      " ('MAD Lions', 0.803984159899297)]\n"
     ]
    }
   ],
   "source": [
    "# using this formula for all the teams\n",
    "# game_grade = 0.336 — (1.437 x Deaths per min) + (0.000117 x gold per min) + (0.443 x K_A per min) + (0.264 x Level per min) + (0.000013 x TD per min)\n",
    "from pprint import pprint\n",
    "def calculate_grade(data):\n",
    "    game_time = data[\"gameTime\"] / 60000\n",
    "    return 0.336 - (1.437 * (data[\"deaths\"]/game_time)) + (0.000117 * (data[\"totalGold\"]/game_time)) + (0.443 * ((data[\"assists\"] + data[\"championsKills\"])/game_time)) + (0.264 *  (data[\"totalLevel\"]/game_time)) + (0.000013 * (data[\"totalDamage\"]/game_time))\n",
    "\n",
    "team_grade_dict = dict()\n",
    "\n",
    "with open(\"Data/msi_2023_average_team_stats.json\", 'r', encoding='utf-8') as json_file:\n",
    "    team_average_stats = json.load(json_file)\n",
    "\n",
    "with open(\"Data/teams_but_better.json\", 'r', encoding='utf-8') as json_file:\n",
    "    team_name_mapping = json.load(json_file)\n",
    "\n",
    "\n",
    "for team, stats in team_average_stats.items():\n",
    "    team_grade_dict[team_name_mapping[team]] = calculate_grade(stats)\n",
    "\n",
    "\n",
    "sorted_dict = sorted(team_grade_dict.items(), key=lambda item: item[1], reverse=True)\n",
    "\n",
    "pprint(sorted_dict)\n"
   ],
   "metadata": {
    "collapsed": false
   }
  },
  {
   "cell_type": "code",
   "execution_count": null,
   "outputs": [],
   "source": [],
   "metadata": {
    "collapsed": false
   }
  }
 ],
 "metadata": {
  "kernelspec": {
   "display_name": "Python 3",
   "language": "python",
   "name": "python3"
  },
  "language_info": {
   "codemirror_mode": {
    "name": "ipython",
    "version": 2
   },
   "file_extension": ".py",
   "mimetype": "text/x-python",
   "name": "python",
   "nbconvert_exporter": "python",
   "pygments_lexer": "ipython2",
   "version": "2.7.6"
  }
 },
 "nbformat": 4,
 "nbformat_minor": 0
}
