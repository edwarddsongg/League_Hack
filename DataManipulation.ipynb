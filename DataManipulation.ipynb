{
 "cells": [
  {
   "cell_type": "code",
   "execution_count": 38,
   "metadata": {
    "collapsed": true
   },
   "outputs": [],
   "source": [
    "import numpy as np\n",
    "import pandas as pd\n",
    "import json\n",
    "import os"
   ]
  },
  {
   "cell_type": "code",
   "execution_count": 36,
   "outputs": [],
   "source": [
    "# places one of each 'eventType' into a json file\n",
    "# this is just for testing purposes... essentially useless LOL\n",
    "eventType = set()\n",
    "dataDict = []\n",
    "\n",
    "with open('Data/games/ESPORTSTMNT03_3195276.json', 'r', encoding='utf-8') as file:\n",
    "    game_data = json.load(file)\n",
    "\n",
    "if isinstance(game_data, list):\n",
    "    game_data.reverse()\n",
    "\n",
    "for entry in game_data:\n",
    "    eventType.add(entry['eventType'])\n",
    "\n",
    "for entry in game_data:\n",
    "    if entry['eventType'] in eventType:\n",
    "        eventType.remove(entry['eventType'])\n",
    "        dataDict.append(entry)\n",
    "    if len(eventType) == 0:\n",
    "        break\n",
    "\n",
    "with open('Data/help.json', 'w') as json_file:\n",
    "    json.dump(dataDict, json_file)\n"
   ],
   "metadata": {
    "collapsed": false
   }
  },
  {
   "cell_type": "code",
   "execution_count": 39,
   "outputs": [],
   "source": [
    "# modify mapping_data so it suites team mapping better :D\n",
    "game_mapping_data = dict()\n",
    "\n",
    "with open('Data/mapping_data.json', 'r', encoding='utf-8') as file:\n",
    "    mapping_data = json.load(file)\n",
    "\n",
    "for entry in mapping_data:\n",
    "    game_mapping_data[entry['platformGameId']] = entry['teamMapping']\n",
    "\n",
    "with open('Data/game_mapping_data.json', 'w') as json_file:\n",
    "    json.dump(game_mapping_data, json_file)"
   ],
   "metadata": {
    "collapsed": false
   }
  },
  {
   "cell_type": "code",
   "execution_count": 51,
   "outputs": [
    {
     "name": "stdout",
     "output_type": "stream",
     "text": [
      "{'100': {'inhibKills': 3, 'towerKills': 10, 'teamID': 100, 'baronKills': 2, 'dragonKills': 5, 'assists': 67, 'totalGold': 65209, 'championsKills': 25, 'deaths': 10, 'won': True}, '200': {'inhibKills': 0, 'towerKills': 3, 'teamID': 200, 'baronKills': 0, 'dragonKills': 0, 'assists': 29, 'totalGold': 53867, 'championsKills': 10, 'deaths': 25, 'won': False}}\n",
      "{'100': {'inhibKills': 0, 'towerKills': 4, 'teamID': 100, 'baronKills': 1, 'dragonKills': 2, 'assists': 2, 'championsKills': 4, 'totalGold': 48232, 'deaths': 23, 'won': False}, '200': {'inhibKills': 1, 'towerKills': 9, 'teamID': 200, 'baronKills': 1, 'dragonKills': 2, 'assists': 57, 'championsKills': 23, 'totalGold': 56214, 'deaths': 4, 'won': True}}\n",
      "{'100': {'inhibKills': 0, 'towerKills': 3, 'teamID': 100, 'baronKills': 0, 'assists': 21, 'dragonKills': 1, 'championsKills': 10, 'totalGold': 48579, 'deaths': 18, 'won': False}, '200': {'inhibKills': 2, 'towerKills': 8, 'teamID': 200, 'baronKills': 1, 'assists': 34, 'dragonKills': 3, 'championsKills': 18, 'totalGold': 58103, 'deaths': 10, 'won': True}}\n",
      "{'100': {'inhibKills': 0, 'towerKills': 5, 'teamID': 100, 'baronKills': 0, 'dragonKills': 1, 'assists': 26, 'championsKills': 17, 'totalGold': 60409, 'deaths': 21, 'won': False}, '200': {'inhibKills': 3, 'towerKills': 10, 'teamID': 200, 'baronKills': 2, 'dragonKills': 3, 'assists': 26, 'championsKills': 21, 'totalGold': 66989, 'deaths': 17, 'won': True}}\n",
      "{'100': {'inhibKills': 0, 'towerKills': 2, 'teamID': 100, 'baronKills': 0, 'dragonKills': 0, 'assists': 13, 'championsKills': 6, 'totalGold': 47777, 'deaths': 27, 'won': False}, '200': {'inhibKills': 3, 'towerKills': 9, 'teamID': 200, 'baronKills': 1, 'dragonKills': 4, 'assists': 75, 'championsKills': 27, 'totalGold': 62772, 'deaths': 6, 'won': True}}\n",
      "{'100': {'inhibKills': 1, 'towerKills': 9, 'teamID': 100, 'baronKills': 1, 'dragonKills': 2, 'assists': 36, 'totalGold': 49040, 'championsKills': 15, 'deaths': 3, 'won': True}, '200': {'inhibKills': 0, 'towerKills': 0, 'teamID': 200, 'baronKills': 0, 'dragonKills': 1, 'assists': 7, 'totalGold': 34732, 'championsKills': 3, 'deaths': 15, 'won': False}}\n",
      "{'100': {'inhibKills': 0, 'towerKills': 3, 'teamID': 100, 'baronKills': 0, 'assists': 23, 'dragonKills': 1, 'championsKills': 12, 'totalGold': 55517, 'deaths': 22, 'won': False}, '200': {'inhibKills': 3, 'towerKills': 10, 'teamID': 200, 'baronKills': 2, 'assists': 67, 'dragonKills': 4, 'championsKills': 22, 'totalGold': 65299, 'deaths': 12, 'won': True}}\n",
      "{'100': {'inhibKills': 2, 'towerKills': 9, 'teamID': 100, 'baronKills': 1, 'dragonKills': 3, 'assists': 54, 'championsKills': 22, 'totalGold': 54920, 'deaths': 7, 'won': True}, '200': {'inhibKills': 0, 'towerKills': 1, 'teamID': 200, 'baronKills': 0, 'dragonKills': 0, 'assists': 18, 'championsKills': 7, 'totalGold': 41801, 'deaths': 22, 'won': False}}\n",
      "{'100': {'inhibKills': 0, 'towerKills': 4, 'teamID': 100, 'baronKills': 0, 'dragonKills': 2, 'assists': 5, 'championsKills': 2, 'totalGold': 46349, 'deaths': 16, 'won': False}, '200': {'inhibKills': 2, 'towerKills': 9, 'teamID': 200, 'baronKills': 1, 'dragonKills': 2, 'assists': 39, 'championsKills': 15, 'totalGold': 55113, 'deaths': 2, 'won': True}}\n",
      "{'100': {'inhibKills': 1, 'towerKills': 9, 'teamID': 100, 'baronKills': 1, 'dragonKills': 2, 'assists': 80, 'totalGold': 54539, 'championsKills': 30, 'deaths': 10, 'won': True}, '200': {'inhibKills': 0, 'towerKills': 1, 'teamID': 200, 'baronKills': 0, 'dragonKills': 1, 'assists': 20, 'totalGold': 38369, 'championsKills': 9, 'deaths': 30, 'won': False}}\n",
      "{'100': {'inhibKills': 0, 'towerKills': 3, 'teamID': 100, 'baronKills': 0, 'assists': 27, 'dragonKills': 0, 'totalGold': 48386, 'championsKills': 13, 'deaths': 29, 'won': False}, '200': {'inhibKills': 2, 'towerKills': 11, 'teamID': 200, 'baronKills': 1, 'assists': 69, 'dragonKills': 4, 'totalGold': 62659, 'championsKills': 29, 'deaths': 13, 'won': True}}\n",
      "{'100': {'inhibKills': 1, 'towerKills': 8, 'teamID': 100, 'baronKills': 1, 'dragonKills': 4, 'assists': 40, 'championsKills': 17, 'totalGold': 66188, 'deaths': 10, 'won': True}, '200': {'inhibKills': 2, 'towerKills': 9, 'teamID': 200, 'baronKills': 1, 'dragonKills': 1, 'assists': 26, 'championsKills': 10, 'totalGold': 61829, 'deaths': 17, 'won': False}}\n",
      "{'100': {'inhibKills': 0, 'towerKills': 1, 'teamID': 100, 'baronKills': 0, 'assists': 18, 'dragonKills': 0, 'championsKills': 10, 'totalGold': 41862, 'deaths': 26, 'won': False}, '200': {'inhibKills': 1, 'towerKills': 8, 'teamID': 200, 'baronKills': 1, 'assists': 65, 'dragonKills': 4, 'championsKills': 26, 'totalGold': 55615, 'deaths': 10, 'won': True}}\n",
      "{'100': {'inhibKills': 0, 'towerKills': 3, 'teamID': 100, 'baronKills': 0, 'dragonKills': 0, 'assists': 57, 'championsKills': 27, 'totalGold': 59925, 'deaths': 30, 'won': False}, '200': {'inhibKills': 1, 'towerKills': 5, 'teamID': 200, 'baronKills': 1, 'dragonKills': 5, 'assists': 75, 'championsKills': 30, 'totalGold': 67049, 'deaths': 27, 'won': True}}\n",
      "{'100': {'inhibKills': 0, 'towerKills': 6, 'teamID': 100, 'baronKills': 1, 'dragonKills': 0, 'assists': 10, 'totalGold': 54498, 'championsKills': 6, 'deaths': 29, 'won': False}, '200': {'inhibKills': 1, 'towerKills': 6, 'teamID': 200, 'baronKills': 0, 'dragonKills': 4, 'assists': 77, 'totalGold': 59015, 'championsKills': 29, 'deaths': 6, 'won': True}}\n",
      "{'100': {'inhibKills': 0, 'towerKills': 6, 'teamID': 100, 'baronKills': 2, 'dragonKills': 3, 'assists': 50, 'championsKills': 21, 'totalGold': 74406, 'deaths': 22, 'won': False}, '200': {'inhibKills': 3, 'towerKills': 9, 'teamID': 200, 'baronKills': 1, 'dragonKills': 4, 'assists': 40, 'championsKills': 22, 'totalGold': 74631, 'deaths': 21, 'won': True}}\n",
      "{'100': {'inhibKills': 2, 'towerKills': 9, 'teamID': 100, 'baronKills': 1, 'dragonKills': 1, 'assists': 33, 'championsKills': 15, 'totalGold': 46397, 'deaths': 2, 'won': True}, '200': {'inhibKills': 0, 'towerKills': 2, 'teamID': 200, 'baronKills': 0, 'dragonKills': 1, 'assists': 1, 'championsKills': 2, 'totalGold': 34647, 'deaths': 15, 'won': False}}\n",
      "{'100': {'inhibKills': 1, 'towerKills': 5, 'teamID': 100, 'baronKills': 2, 'dragonKills': 3, 'assists': 17, 'championsKills': 12, 'totalGold': 61357, 'deaths': 30, 'won': False}, '200': {'inhibKills': 2, 'towerKills': 9, 'teamID': 200, 'baronKills': 0, 'dragonKills': 2, 'assists': 42, 'championsKills': 30, 'totalGold': 68933, 'deaths': 12, 'won': True}}\n",
      "{'100': {'inhibKills': 0, 'towerKills': 4, 'teamID': 100, 'baronKills': 0, 'dragonKills': 3, 'assists': 36, 'totalGold': 64465, 'championsKills': 16, 'deaths': 19, 'won': False}, '200': {'inhibKills': 3, 'towerKills': 11, 'teamID': 200, 'baronKills': 2, 'dragonKills': 2, 'assists': 55, 'totalGold': 72211, 'championsKills': 19, 'deaths': 16, 'won': True}}\n",
      "{'100': {'inhibKills': 2, 'towerKills': 9, 'teamID': 100, 'baronKills': 2, 'assists': 73, 'dragonKills': 4, 'totalGold': 63856, 'championsKills': 28, 'deaths': 13, 'won': True}, '200': {'inhibKills': 0, 'towerKills': 3, 'teamID': 200, 'baronKills': 0, 'assists': 13, 'dragonKills': 0, 'totalGold': 49852, 'championsKills': 13, 'deaths': 28, 'won': False}}\n",
      "{'100': {'inhibKills': 0, 'towerKills': 3, 'teamID': 100, 'baronKills': 0, 'assists': 51, 'dragonKills': 1, 'championsKills': 21, 'totalGold': 51447, 'deaths': 25, 'won': False}, '200': {'inhibKills': 2, 'towerKills': 10, 'teamID': 200, 'baronKills': 1, 'assists': 63, 'dragonKills': 3, 'championsKills': 25, 'totalGold': 59448, 'deaths': 21, 'won': True}}\n",
      "{'100': {'inhibKills': 0, 'towerKills': 3, 'teamID': 100, 'baronKills': 0, 'dragonKills': 0, 'assists': 25, 'championsKills': 14, 'totalGold': 51275, 'deaths': 23, 'won': False}, '200': {'inhibKills': 3, 'towerKills': 9, 'teamID': 200, 'baronKills': 2, 'dragonKills': 4, 'assists': 57, 'championsKills': 23, 'totalGold': 61185, 'deaths': 14, 'won': True}}\n",
      "{'100': {'inhibKills': 1, 'towerKills': 10, 'teamID': 100, 'baronKills': 1, 'assists': 50, 'dragonKills': 2, 'championsKills': 22, 'totalGold': 53655, 'deaths': 7, 'won': True}, '200': {'inhibKills': 0, 'towerKills': 1, 'teamID': 200, 'baronKills': 0, 'assists': 8, 'dragonKills': 0, 'championsKills': 7, 'totalGold': 41352, 'deaths': 22, 'won': False}}\n",
      "{'100': {'inhibKills': 0, 'towerKills': 2, 'teamID': 100, 'baronKills': 0, 'dragonKills': 2, 'assists': 44, 'championsKills': 15, 'totalGold': 54590, 'deaths': 15, 'won': False}, '200': {'inhibKills': 2, 'towerKills': 9, 'teamID': 200, 'baronKills': 2, 'dragonKills': 3, 'assists': 37, 'championsKills': 15, 'totalGold': 62433, 'deaths': 15, 'won': True}}\n",
      "{'100': {'inhibKills': 1, 'towerKills': 7, 'teamID': 100, 'baronKills': 2, 'assists': 64, 'dragonKills': 4, 'totalGold': 74040, 'championsKills': 28, 'deaths': 23, 'won': True}, '200': {'inhibKills': 0, 'towerKills': 3, 'teamID': 200, 'baronKills': 0, 'assists': 45, 'dragonKills': 2, 'totalGold': 66450, 'championsKills': 23, 'deaths': 28, 'won': False}}\n",
      "{'100': {'inhibKills': 0, 'towerKills': 9, 'teamID': 100, 'baronKills': 1, 'assists': 30, 'dragonKills': 2, 'championsKills': 12, 'totalGold': 64664, 'deaths': 12, 'won': False}, '200': {'inhibKills': 1, 'towerKills': 8, 'teamID': 200, 'baronKills': 1, 'assists': 30, 'dragonKills': 3, 'championsKills': 12, 'totalGold': 64826, 'deaths': 12, 'won': True}}\n",
      "{'100': {'inhibKills': 0, 'towerKills': 3, 'teamID': 100, 'baronKills': 0, 'dragonKills': 0, 'assists': 34, 'championsKills': 14, 'totalGold': 48304, 'deaths': 25, 'won': False}, '200': {'inhibKills': 1, 'towerKills': 9, 'teamID': 200, 'baronKills': 1, 'dragonKills': 4, 'assists': 71, 'championsKills': 25, 'totalGold': 59844, 'deaths': 14, 'won': True}}\n",
      "{'100': {'inhibKills': 0, 'towerKills': 0, 'teamID': 100, 'baronKills': 0, 'dragonKills': 1, 'assists': 4, 'championsKills': 3, 'totalGold': 42208, 'deaths': 17, 'won': False}, '200': {'inhibKills': 1, 'towerKills': 10, 'teamID': 200, 'baronKills': 1, 'dragonKills': 2, 'assists': 36, 'championsKills': 17, 'totalGold': 57108, 'deaths': 3, 'won': True}}\n",
      "{'100': {'inhibKills': 0, 'towerKills': 6, 'teamID': 100, 'baronKills': 2, 'assists': 43, 'dragonKills': 2, 'championsKills': 18, 'totalGold': 68241, 'deaths': 31, 'won': False}, '200': {'inhibKills': 2, 'towerKills': 10, 'teamID': 200, 'baronKills': 1, 'assists': 76, 'dragonKills': 4, 'championsKills': 31, 'totalGold': 76790, 'deaths': 18, 'won': True}}\n",
      "{'100': {'inhibKills': 2, 'towerKills': 10, 'teamID': 100, 'baronKills': 1, 'dragonKills': 3, 'assists': 59, 'championsKills': 21, 'totalGold': 70585, 'deaths': 13, 'won': True}, '200': {'inhibKills': 0, 'towerKills': 6, 'teamID': 200, 'baronKills': 2, 'dragonKills': 3, 'assists': 34, 'championsKills': 13, 'totalGold': 66336, 'deaths': 21, 'won': False}}\n",
      "{'100': {'inhibKills': 0, 'towerKills': 3, 'teamID': 100, 'baronKills': 0, 'assists': 28, 'dragonKills': 1, 'championsKills': 14, 'totalGold': 49252, 'deaths': 32, 'won': False}, '200': {'inhibKills': 1, 'towerKills': 7, 'teamID': 200, 'baronKills': 2, 'assists': 73, 'dragonKills': 3, 'championsKills': 32, 'totalGold': 61768, 'deaths': 14, 'won': True}}\n",
      "{'100': {'inhibKills': 0, 'towerKills': 2, 'teamID': 100, 'baronKills': 1, 'dragonKills': 5, 'assists': 68, 'championsKills': 32, 'totalGold': 84041, 'deaths': 28, 'won': False}, '200': {'inhibKills': 4, 'towerKills': 11, 'teamID': 200, 'baronKills': 3, 'dragonKills': 1, 'assists': 53, 'championsKills': 28, 'totalGold': 89720, 'deaths': 32, 'won': True}}\n",
      "{'100': {'inhibKills': 1, 'towerKills': 5, 'teamID': 100, 'baronKills': 0, 'assists': 46, 'dragonKills': 3, 'championsKills': 19, 'totalGold': 71296, 'deaths': 21, 'won': False}, '200': {'inhibKills': 5, 'towerKills': 11, 'teamID': 200, 'baronKills': 3, 'assists': 55, 'dragonKills': 3, 'championsKills': 21, 'totalGold': 77046, 'deaths': 19, 'won': True}}\n",
      "{'100': {'inhibKills': 1, 'towerKills': 9, 'teamID': 100, 'baronKills': 1, 'assists': 75, 'dragonKills': 3, 'championsKills': 33, 'totalGold': 57522, 'deaths': 11, 'won': True}, '200': {'inhibKills': 0, 'towerKills': 2, 'teamID': 200, 'baronKills': 0, 'assists': 23, 'dragonKills': 0, 'championsKills': 11, 'totalGold': 42804, 'deaths': 33, 'won': False}}\n",
      "{'100': {'inhibKills': 0, 'towerKills': 4, 'teamID': 100, 'baronKills': 0, 'dragonKills': 3, 'assists': 24, 'championsKills': 11, 'totalGold': 51123, 'deaths': 22, 'won': False}, '200': {'inhibKills': 1, 'towerKills': 8, 'teamID': 200, 'baronKills': 2, 'dragonKills': 1, 'assists': 62, 'championsKills': 22, 'totalGold': 62606, 'deaths': 11, 'won': True}}\n",
      "{'100': {'inhibKills': 2, 'towerKills': 10, 'teamID': 100, 'baronKills': 2, 'dragonKills': 2, 'assists': 56, 'totalGold': 62792, 'championsKills': 22, 'deaths': 21, 'won': True}, '200': {'inhibKills': 1, 'towerKills': 7, 'teamID': 200, 'baronKills': 0, 'dragonKills': 2, 'assists': 46, 'totalGold': 59092, 'championsKills': 21, 'deaths': 23, 'won': False}}\n",
      "{'100': {'inhibKills': 1, 'towerKills': 8, 'teamID': 100, 'baronKills': 1, 'dragonKills': 3, 'assists': 59, 'championsKills': 24, 'totalGold': 65273, 'deaths': 12, 'won': True}, '200': {'inhibKills': 0, 'towerKills': 4, 'teamID': 200, 'baronKills': 0, 'dragonKills': 2, 'assists': 28, 'championsKills': 12, 'totalGold': 57328, 'deaths': 24, 'won': False}}\n",
      "{'100': {'inhibKills': 2, 'towerKills': 9, 'teamID': 100, 'baronKills': 1, 'assists': 42, 'dragonKills': 1, 'championsKills': 16, 'totalGold': 55128, 'deaths': 4, 'won': True}, '200': {'inhibKills': 0, 'towerKills': 1, 'teamID': 200, 'baronKills': 0, 'assists': 4, 'dragonKills': 2, 'championsKills': 4, 'totalGold': 42445, 'deaths': 16, 'won': False}}\n",
      "{'100': {'inhibKills': 1, 'towerKills': 7, 'teamID': 100, 'baronKills': 0, 'assists': 78, 'dragonKills': 2, 'championsKills': 35, 'totalGold': 48371, 'deaths': 7, 'won': True}, '200': {'inhibKills': 0, 'towerKills': 0, 'teamID': 200, 'baronKills': 0, 'assists': 20, 'dragonKills': 1, 'championsKills': 7, 'totalGold': 28928, 'deaths': 35, 'won': False}}\n",
      "{'100': {'inhibKills': 1, 'towerKills': 9, 'teamID': 100, 'baronKills': 1, 'assists': 38, 'dragonKills': 2, 'championsKills': 20, 'totalGold': 50592, 'deaths': 6, 'won': True}, '200': {'inhibKills': 0, 'towerKills': 1, 'teamID': 200, 'baronKills': 0, 'assists': 18, 'dragonKills': 1, 'championsKills': 6, 'totalGold': 35411, 'deaths': 20, 'won': False}}\n",
      "{'100': {'inhibKills': 3, 'towerKills': 11, 'teamID': 100, 'baronKills': 2, 'dragonKills': 2, 'assists': 39, 'totalGold': 70490, 'championsKills': 17, 'deaths': 10, 'won': True}, '200': {'inhibKills': 0, 'towerKills': 5, 'teamID': 200, 'baronKills': 0, 'dragonKills': 3, 'assists': 18, 'totalGold': 62263, 'championsKills': 10, 'deaths': 17, 'won': False}}\n",
      "{'100': {'inhibKills': 1, 'towerKills': 9, 'teamID': 100, 'baronKills': 1, 'dragonKills': 2, 'assists': 65, 'championsKills': 25, 'totalGold': 61399, 'deaths': 14, 'won': True}, '200': {'inhibKills': 0, 'towerKills': 2, 'teamID': 200, 'baronKills': 0, 'dragonKills': 2, 'assists': 28, 'championsKills': 14, 'totalGold': 52822, 'deaths': 25, 'won': False}}\n",
      "{'100': {'inhibKills': 1, 'towerKills': 8, 'teamID': 100, 'baronKills': 1, 'assists': 61, 'dragonKills': 2, 'championsKills': 24, 'totalGold': 54092, 'deaths': 6, 'won': True}, '200': {'inhibKills': 0, 'towerKills': 1, 'teamID': 200, 'baronKills': 0, 'assists': 17, 'dragonKills': 1, 'championsKills': 6, 'totalGold': 38906, 'deaths': 24, 'won': False}}\n",
      "{'100': {'inhibKills': 0, 'towerKills': 3, 'teamID': 100, 'baronKills': 0, 'dragonKills': 1, 'assists': 17, 'championsKills': 6, 'totalGold': 39602, 'deaths': 19, 'won': False}, '200': {'inhibKills': 2, 'towerKills': 9, 'teamID': 200, 'baronKills': 1, 'dragonKills': 2, 'assists': 55, 'championsKills': 19, 'totalGold': 49093, 'deaths': 6, 'won': True}}\n",
      "{'100': {'inhibKills': 1, 'towerKills': 8, 'teamID': 100, 'baronKills': 0, 'dragonKills': 3, 'assists': 47, 'championsKills': 18, 'totalGold': 74505, 'deaths': 17, 'won': True}, '200': {'inhibKills': 1, 'towerKills': 7, 'teamID': 200, 'baronKills': 2, 'dragonKills': 3, 'assists': 38, 'championsKills': 17, 'totalGold': 69751, 'deaths': 18, 'won': False}}\n",
      "{'100': {'inhibKills': 1, 'towerKills': 9, 'teamID': 100, 'baronKills': 1, 'dragonKills': 3, 'assists': 68, 'championsKills': 30, 'totalGold': 69975, 'deaths': 13, 'won': True}, '200': {'inhibKills': 0, 'towerKills': 3, 'teamID': 200, 'baronKills': 0, 'dragonKills': 2, 'assists': 16, 'championsKills': 13, 'totalGold': 56390, 'deaths': 30, 'won': False}}\n",
      "{'100': {'inhibKills': 1, 'towerKills': 10, 'teamID': 100, 'baronKills': 2, 'dragonKills': 3, 'assists': 59, 'totalGold': 62193, 'championsKills': 20, 'deaths': 8, 'won': True}, '200': {'inhibKills': 0, 'towerKills': 4, 'teamID': 200, 'baronKills': 0, 'dragonKills': 2, 'assists': 18, 'totalGold': 50361, 'championsKills': 8, 'deaths': 20, 'won': False}}\n",
      "{'100': {'inhibKills': 0, 'towerKills': 2, 'teamID': 100, 'baronKills': 0, 'dragonKills': 1, 'assists': 31, 'totalGold': 41845, 'championsKills': 11, 'deaths': 27, 'won': False}, '200': {'inhibKills': 2, 'towerKills': 11, 'teamID': 200, 'baronKills': 1, 'dragonKills': 2, 'assists': 63, 'totalGold': 54804, 'championsKills': 27, 'deaths': 11, 'won': True}}\n",
      "{'100': {'inhibKills': 0, 'towerKills': 0, 'teamID': 100, 'baronKills': 0, 'dragonKills': 0, 'assists': 7, 'championsKills': 3, 'totalGold': 28117, 'deaths': 33, 'won': False}, '200': {'inhibKills': 2, 'towerKills': 8, 'teamID': 200, 'baronKills': 1, 'dragonKills': 3, 'assists': 78, 'championsKills': 33, 'totalGold': 49065, 'deaths': 3, 'won': True}}\n",
      "{'100': {'inhibKills': 1, 'towerKills': 8, 'teamID': 100, 'baronKills': 1, 'dragonKills': 4, 'assists': 71, 'championsKills': 28, 'totalGold': 70516, 'deaths': 27, 'won': True}, '200': {'inhibKills': 1, 'towerKills': 6, 'teamID': 200, 'baronKills': 1, 'dragonKills': 2, 'assists': 55, 'championsKills': 27, 'totalGold': 68082, 'deaths': 28, 'won': False}}\n",
      "{'100': {'inhibKills': 0, 'towerKills': 3, 'teamID': 100, 'baronKills': 0, 'assists': 10, 'dragonKills': 2, 'championsKills': 4, 'totalGold': 48245, 'deaths': 21, 'won': False}, '200': {'inhibKills': 1, 'towerKills': 8, 'teamID': 200, 'baronKills': 1, 'assists': 60, 'dragonKills': 3, 'championsKills': 21, 'totalGold': 60492, 'deaths': 4, 'won': True}}\n",
      "{'100': {'inhibKills': 0, 'towerKills': 3, 'teamID': 100, 'baronKills': 0, 'dragonKills': 3, 'assists': 16, 'championsKills': 8, 'totalGold': 54553, 'deaths': 12, 'won': False}, '200': {'inhibKills': 1, 'towerKills': 9, 'teamID': 200, 'baronKills': 1, 'dragonKills': 1, 'assists': 27, 'championsKills': 12, 'totalGold': 62301, 'deaths': 8, 'won': True}}\n",
      "{'100': {'inhibKills': 0, 'towerKills': 2, 'teamID': 100, 'baronKills': 0, 'assists': 26, 'dragonKills': 0, 'championsKills': 14, 'totalGold': 50115, 'deaths': 16, 'won': False}, '200': {'inhibKills': 1, 'towerKills': 9, 'teamID': 200, 'baronKills': 1, 'assists': 33, 'dragonKills': 3, 'championsKills': 16, 'totalGold': 55269, 'deaths': 14, 'won': True}}\n",
      "{'100': {'inhibKills': 2, 'towerKills': 10, 'teamID': 100, 'baronKills': 1, 'dragonKills': 2, 'assists': 40, 'championsKills': 26, 'totalGold': 53814, 'deaths': 8, 'won': True}, '200': {'inhibKills': 0, 'towerKills': 2, 'teamID': 200, 'baronKills': 0, 'dragonKills': 0, 'assists': 16, 'championsKills': 8, 'totalGold': 38641, 'deaths': 26, 'won': False}}\n",
      "{'100': {'inhibKills': 2, 'towerKills': 11, 'teamID': 100, 'baronKills': 1, 'dragonKills': 3, 'assists': 52, 'totalGold': 59050, 'championsKills': 30, 'deaths': 14, 'won': True}, '200': {'inhibKills': 0, 'towerKills': 1, 'teamID': 200, 'baronKills': 0, 'dragonKills': 1, 'assists': 33, 'totalGold': 46676, 'championsKills': 14, 'deaths': 30, 'won': False}}\n",
      "{'100': {'inhibKills': 2, 'towerKills': 9, 'teamID': 100, 'baronKills': 0, 'dragonKills': 2, 'assists': 35, 'championsKills': 20, 'totalGold': 46026, 'deaths': 12, 'won': True}, '200': {'inhibKills': 0, 'towerKills': 0, 'teamID': 200, 'baronKills': 0, 'dragonKills': 0, 'assists': 27, 'championsKills': 12, 'totalGold': 35138, 'deaths': 20, 'won': False}}\n",
      "{'100': {'inhibKills': 1, 'towerKills': 6, 'teamID': 100, 'baronKills': 2, 'assists': 44, 'dragonKills': 2, 'championsKills': 16, 'totalGold': 70895, 'deaths': 25, 'won': False}, '200': {'inhibKills': 3, 'towerKills': 10, 'teamID': 200, 'baronKills': 1, 'assists': 67, 'dragonKills': 3, 'championsKills': 25, 'totalGold': 75360, 'deaths': 16, 'won': True}}\n",
      "{'100': {'inhibKills': 0, 'towerKills': 1, 'teamID': 100, 'baronKills': 0, 'dragonKills': 0, 'assists': 8, 'championsKills': 6, 'totalGold': 38192, 'deaths': 22, 'won': False}, '200': {'inhibKills': 1, 'towerKills': 6, 'teamID': 200, 'baronKills': 1, 'dragonKills': 3, 'assists': 38, 'championsKills': 22, 'totalGold': 51112, 'deaths': 6, 'won': True}}\n",
      "{'100': {'inhibKills': 3, 'towerKills': 11, 'teamID': 100, 'baronKills': 2, 'dragonKills': 3, 'assists': 37, 'totalGold': 62205, 'championsKills': 20, 'deaths': 13, 'won': True}, '200': {'inhibKills': 0, 'towerKills': 2, 'teamID': 200, 'baronKills': 0, 'dragonKills': 1, 'assists': 32, 'totalGold': 49931, 'championsKills': 13, 'deaths': 20, 'won': False}}\n",
      "{'100': {'inhibKills': 0, 'towerKills': 4, 'teamID': 100, 'baronKills': 0, 'dragonKills': 0, 'assists': 4, 'championsKills': 2, 'totalGold': 45949, 'deaths': 13, 'won': False}, '200': {'inhibKills': 1, 'towerKills': 9, 'teamID': 200, 'baronKills': 1, 'dragonKills': 4, 'assists': 39, 'championsKills': 13, 'totalGold': 52563, 'deaths': 2, 'won': True}}\n"
     ]
    }
   ],
   "source": [
    "team_data = dict()\n",
    "\n",
    "with open('Data/game_mapping_data.json', 'r') as json_file:\n",
    "    team_mapping_data = json.load(json_file)\n",
    "\n",
    "# Iterate through all files in the directory\n",
    "for filename in os.listdir('Data/games'):\n",
    "    # Create the full path to the file\n",
    "    file_path = os.path.join('Data/games', filename)\n",
    "\n",
    "    with open(file_path, 'r', encoding='utf-8') as json_file:\n",
    "        game_data = json.load(json_file)\n",
    "\n",
    "\n",
    "    winning_team = str(game_data[-1][\"winningTeam\"])\n",
    "    team_stats = {str(team['teamID']): team for team in game_data[-2]['teams']}\n",
    "    game_id = game_data[-2]['platformGameId']\n",
    "    team_mapping = team_mapping_data[game_id]\n",
    "\n",
    "    for key in team_stats:\n",
    "        team_stats[key][\"won\"] = key == winning_team\n",
    "\n",
    "    for key, value in team_stats.items():\n",
    "        # print(type(key))\n",
    "        team_id = team_mapping[key]\n",
    "        if team_id in team_data:\n",
    "            team_data[team_id].append(value)\n",
    "        else:\n",
    "            team_data[team_id] = [value]\n",
    "\n",
    "    print(team_stats)\n",
    "\n",
    "with open('Data/test.json', 'w') as json_file:\n",
    "    json.dump(team_data, json_file)\n",
    "\n"
   ],
   "metadata": {
    "collapsed": false
   }
  },
  {
   "cell_type": "code",
   "execution_count": 49,
   "outputs": [
    {
     "name": "stdout",
     "output_type": "stream",
     "text": [
      "60\n"
     ]
    }
   ],
   "source": [
    "count = 0\n",
    "for filename in os.listdir('Data/games'):\n",
    "    count += 1\n",
    "\n",
    "print(count)"
   ],
   "metadata": {
    "collapsed": false
   }
  },
  {
   "cell_type": "code",
   "execution_count": null,
   "outputs": [],
   "source": [],
   "metadata": {
    "collapsed": false
   }
  }
 ],
 "metadata": {
  "kernelspec": {
   "display_name": "Python 3",
   "language": "python",
   "name": "python3"
  },
  "language_info": {
   "codemirror_mode": {
    "name": "ipython",
    "version": 2
   },
   "file_extension": ".py",
   "mimetype": "text/x-python",
   "name": "python",
   "nbconvert_exporter": "python",
   "pygments_lexer": "ipython2",
   "version": "2.7.6"
  }
 },
 "nbformat": 4,
 "nbformat_minor": 0
}
