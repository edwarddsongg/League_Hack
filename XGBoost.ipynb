{
 "cells": [
  {
   "cell_type": "code",
   "execution_count": 231,
   "outputs": [
    {
     "name": "stdout",
     "output_type": "stream",
     "text": [
      "Requirement already satisfied: scikit-learn in c:\\users\\chris\\appdata\\local\\programs\\python\\python311\\lib\\site-packages (1.3.1)\n",
      "Requirement already satisfied: numpy<2.0,>=1.17.3 in c:\\users\\chris\\appdata\\local\\programs\\python\\python311\\lib\\site-packages (from scikit-learn) (1.24.1)\n",
      "Requirement already satisfied: scipy>=1.5.0 in c:\\users\\chris\\appdata\\local\\programs\\python\\python311\\lib\\site-packages (from scikit-learn) (1.11.3)\n",
      "Requirement already satisfied: joblib>=1.1.1 in c:\\users\\chris\\appdata\\local\\programs\\python\\python311\\lib\\site-packages (from scikit-learn) (1.3.2)\n",
      "Requirement already satisfied: threadpoolctl>=2.0.0 in c:\\users\\chris\\appdata\\local\\programs\\python\\python311\\lib\\site-packages (from scikit-learn) (3.2.0)\n",
      "Note: you may need to restart the kernel to use updated packages.\n"
     ]
    },
    {
     "name": "stderr",
     "output_type": "stream",
     "text": [
      "\n",
      "[notice] A new release of pip available: 22.3.1 -> 23.2.1\n",
      "[notice] To update, run: python.exe -m pip install --upgrade pip\n"
     ]
    }
   ],
   "source": [
    "pip install scikit-learn"
   ],
   "metadata": {
    "collapsed": false
   }
  },
  {
   "cell_type": "code",
   "execution_count": 232,
   "outputs": [
    {
     "name": "stdout",
     "output_type": "stream",
     "text": [
      "Requirement already satisfied: xgboost in c:\\users\\chris\\appdata\\local\\programs\\python\\python311\\lib\\site-packages (2.0.0)\n",
      "Requirement already satisfied: numpy in c:\\users\\chris\\appdata\\local\\programs\\python\\python311\\lib\\site-packages (from xgboost) (1.24.1)\n",
      "Requirement already satisfied: scipy in c:\\users\\chris\\appdata\\local\\programs\\python\\python311\\lib\\site-packages (from xgboost) (1.11.3)\n",
      "Note: you may need to restart the kernel to use updated packages.\n"
     ]
    },
    {
     "name": "stderr",
     "output_type": "stream",
     "text": [
      "\n",
      "[notice] A new release of pip available: 22.3.1 -> 23.2.1\n",
      "[notice] To update, run: python.exe -m pip install --upgrade pip\n"
     ]
    }
   ],
   "source": [
    "pip install xgboost"
   ],
   "metadata": {
    "collapsed": false
   }
  },
  {
   "cell_type": "code",
   "execution_count": 258,
   "outputs": [],
   "source": [
    "import json\n",
    "import pandas as pd\n",
    "import numpy as np\n",
    "from sklearn.model_selection import train_test_split\n",
    "import xgboost as xgb\n",
    "import warnings\n",
    "import pprint\n",
    "\n",
    "warnings.filterwarnings(\"ignore\")\n"
   ],
   "metadata": {
    "collapsed": false
   }
  },
  {
   "cell_type": "code",
   "execution_count": 238,
   "outputs": [],
   "source": [
    "def drop_unwanted_columns(df):\n",
    "    df = df.drop('teamID', axis=1)\n",
    "    df = df.drop('inhibKills', axis=1)\n",
    "    df = df.drop('towerKills', axis=1)\n",
    "    df = df.drop('assists', axis=1)\n",
    "    df = df.drop('game_time', axis=1)\n",
    "    return df"
   ],
   "metadata": {
    "collapsed": false
   }
  },
  {
   "cell_type": "code",
   "execution_count": 239,
   "outputs": [],
   "source": [
    "with open('esports-data/lck_2023_average_stats.json', 'r') as json_file:\n",
    "    data = json.load(json_file)\n",
    "\n",
    "df = pd.DataFrame(data)\n"
   ],
   "metadata": {
    "collapsed": false
   }
  },
  {
   "cell_type": "code",
   "execution_count": 240,
   "outputs": [],
   "source": [
    "df = drop_unwanted_columns(df)"
   ],
   "metadata": {
    "collapsed": false
   }
  },
  {
   "cell_type": "code",
   "execution_count": 241,
   "outputs": [
    {
     "data": {
      "text/plain": "(470, 10)"
     },
     "execution_count": 241,
     "metadata": {},
     "output_type": "execute_result"
    }
   ],
   "source": [
    "df.shape"
   ],
   "metadata": {
    "collapsed": false
   }
  },
  {
   "cell_type": "code",
   "execution_count": 242,
   "outputs": [
    {
     "data": {
      "text/plain": "     baronKills  championsKills    deaths  dragonKills  first_blood  \\\n0             0        0.745937  0.043879            3         True   \n1             0        0.043879  0.745937            0        False   \n2             2        0.416064  0.388326            2        False   \n3             0        0.388326  0.416064            3         True   \n4             0        0.223992  0.671976            0        False   \n..          ...             ...       ...          ...          ...   \n465           1        0.097045  0.291136            2        False   \n466           0        0.266911  0.762602            1         True   \n467           1        0.762602  0.266911            2        False   \n468           0        0.200154  0.533745            0         True   \n469           1        0.533745  0.200154            3        False   \n\n     first_turret   totalDamage    totalGold  totalLevel    won  \n0            True  22695.472874  1948.695597    2.676599   True  \n1           False  16546.005534  1438.693820    2.457205  False  \n2           False  30703.887080  1916.335087    2.246745   True  \n3            True  23298.979904  1764.471744    2.219008  False  \n4           False  20090.998288  1647.796386    2.426579  False  \n..            ...           ...          ...         ...    ...  \n465         False  27738.625310  1664.738566    2.013689  False  \n466         False  20916.845439  1693.699831    2.440325  False  \n467          True  25539.891611  2037.251813    2.745365   True  \n468         False  24639.841918  1735.471575    2.335134  False  \n469          True  29246.275305  2025.995601    2.568647   True  \n\n[470 rows x 10 columns]",
      "text/html": "<div>\n<style scoped>\n    .dataframe tbody tr th:only-of-type {\n        vertical-align: middle;\n    }\n\n    .dataframe tbody tr th {\n        vertical-align: top;\n    }\n\n    .dataframe thead th {\n        text-align: right;\n    }\n</style>\n<table border=\"1\" class=\"dataframe\">\n  <thead>\n    <tr style=\"text-align: right;\">\n      <th></th>\n      <th>baronKills</th>\n      <th>championsKills</th>\n      <th>deaths</th>\n      <th>dragonKills</th>\n      <th>first_blood</th>\n      <th>first_turret</th>\n      <th>totalDamage</th>\n      <th>totalGold</th>\n      <th>totalLevel</th>\n      <th>won</th>\n    </tr>\n  </thead>\n  <tbody>\n    <tr>\n      <th>0</th>\n      <td>0</td>\n      <td>0.745937</td>\n      <td>0.043879</td>\n      <td>3</td>\n      <td>True</td>\n      <td>True</td>\n      <td>22695.472874</td>\n      <td>1948.695597</td>\n      <td>2.676599</td>\n      <td>True</td>\n    </tr>\n    <tr>\n      <th>1</th>\n      <td>0</td>\n      <td>0.043879</td>\n      <td>0.745937</td>\n      <td>0</td>\n      <td>False</td>\n      <td>False</td>\n      <td>16546.005534</td>\n      <td>1438.693820</td>\n      <td>2.457205</td>\n      <td>False</td>\n    </tr>\n    <tr>\n      <th>2</th>\n      <td>2</td>\n      <td>0.416064</td>\n      <td>0.388326</td>\n      <td>2</td>\n      <td>False</td>\n      <td>False</td>\n      <td>30703.887080</td>\n      <td>1916.335087</td>\n      <td>2.246745</td>\n      <td>True</td>\n    </tr>\n    <tr>\n      <th>3</th>\n      <td>0</td>\n      <td>0.388326</td>\n      <td>0.416064</td>\n      <td>3</td>\n      <td>True</td>\n      <td>True</td>\n      <td>23298.979904</td>\n      <td>1764.471744</td>\n      <td>2.219008</td>\n      <td>False</td>\n    </tr>\n    <tr>\n      <th>4</th>\n      <td>0</td>\n      <td>0.223992</td>\n      <td>0.671976</td>\n      <td>0</td>\n      <td>False</td>\n      <td>False</td>\n      <td>20090.998288</td>\n      <td>1647.796386</td>\n      <td>2.426579</td>\n      <td>False</td>\n    </tr>\n    <tr>\n      <th>...</th>\n      <td>...</td>\n      <td>...</td>\n      <td>...</td>\n      <td>...</td>\n      <td>...</td>\n      <td>...</td>\n      <td>...</td>\n      <td>...</td>\n      <td>...</td>\n      <td>...</td>\n    </tr>\n    <tr>\n      <th>465</th>\n      <td>1</td>\n      <td>0.097045</td>\n      <td>0.291136</td>\n      <td>2</td>\n      <td>False</td>\n      <td>False</td>\n      <td>27738.625310</td>\n      <td>1664.738566</td>\n      <td>2.013689</td>\n      <td>False</td>\n    </tr>\n    <tr>\n      <th>466</th>\n      <td>0</td>\n      <td>0.266911</td>\n      <td>0.762602</td>\n      <td>1</td>\n      <td>True</td>\n      <td>False</td>\n      <td>20916.845439</td>\n      <td>1693.699831</td>\n      <td>2.440325</td>\n      <td>False</td>\n    </tr>\n    <tr>\n      <th>467</th>\n      <td>1</td>\n      <td>0.762602</td>\n      <td>0.266911</td>\n      <td>2</td>\n      <td>False</td>\n      <td>True</td>\n      <td>25539.891611</td>\n      <td>2037.251813</td>\n      <td>2.745365</td>\n      <td>True</td>\n    </tr>\n    <tr>\n      <th>468</th>\n      <td>0</td>\n      <td>0.200154</td>\n      <td>0.533745</td>\n      <td>0</td>\n      <td>True</td>\n      <td>False</td>\n      <td>24639.841918</td>\n      <td>1735.471575</td>\n      <td>2.335134</td>\n      <td>False</td>\n    </tr>\n    <tr>\n      <th>469</th>\n      <td>1</td>\n      <td>0.533745</td>\n      <td>0.200154</td>\n      <td>3</td>\n      <td>False</td>\n      <td>True</td>\n      <td>29246.275305</td>\n      <td>2025.995601</td>\n      <td>2.568647</td>\n      <td>True</td>\n    </tr>\n  </tbody>\n</table>\n<p>470 rows × 10 columns</p>\n</div>"
     },
     "execution_count": 242,
     "metadata": {},
     "output_type": "execute_result"
    }
   ],
   "source": [
    "df"
   ],
   "metadata": {
    "collapsed": false
   }
  },
  {
   "cell_type": "code",
   "execution_count": 243,
   "outputs": [],
   "source": [
    "from sklearn.preprocessing import OrdinalEncoder\n",
    "\n",
    "# Extract feature and target arrays\n",
    "X, y = df.drop('won', axis=1), df[['won']]\n",
    "# y = OrdinalEncoder().fit_transform(y)"
   ],
   "metadata": {
    "collapsed": false
   }
  },
  {
   "cell_type": "code",
   "execution_count": 244,
   "outputs": [
    {
     "data": {
      "text/plain": "       won\n0     True\n1    False\n2     True\n3    False\n4    False\n..     ...\n465  False\n466  False\n467   True\n468  False\n469   True\n\n[470 rows x 1 columns]",
      "text/html": "<div>\n<style scoped>\n    .dataframe tbody tr th:only-of-type {\n        vertical-align: middle;\n    }\n\n    .dataframe tbody tr th {\n        vertical-align: top;\n    }\n\n    .dataframe thead th {\n        text-align: right;\n    }\n</style>\n<table border=\"1\" class=\"dataframe\">\n  <thead>\n    <tr style=\"text-align: right;\">\n      <th></th>\n      <th>won</th>\n    </tr>\n  </thead>\n  <tbody>\n    <tr>\n      <th>0</th>\n      <td>True</td>\n    </tr>\n    <tr>\n      <th>1</th>\n      <td>False</td>\n    </tr>\n    <tr>\n      <th>2</th>\n      <td>True</td>\n    </tr>\n    <tr>\n      <th>3</th>\n      <td>False</td>\n    </tr>\n    <tr>\n      <th>4</th>\n      <td>False</td>\n    </tr>\n    <tr>\n      <th>...</th>\n      <td>...</td>\n    </tr>\n    <tr>\n      <th>465</th>\n      <td>False</td>\n    </tr>\n    <tr>\n      <th>466</th>\n      <td>False</td>\n    </tr>\n    <tr>\n      <th>467</th>\n      <td>True</td>\n    </tr>\n    <tr>\n      <th>468</th>\n      <td>False</td>\n    </tr>\n    <tr>\n      <th>469</th>\n      <td>True</td>\n    </tr>\n  </tbody>\n</table>\n<p>470 rows × 1 columns</p>\n</div>"
     },
     "execution_count": 244,
     "metadata": {},
     "output_type": "execute_result"
    }
   ],
   "source": [
    "y"
   ],
   "metadata": {
    "collapsed": false
   }
  },
  {
   "cell_type": "code",
   "execution_count": 245,
   "outputs": [],
   "source": [
    "X_train, X_test, y_train, y_test = train_test_split(X, y, random_state=1, stratify=y)"
   ],
   "metadata": {
    "collapsed": false
   }
  },
  {
   "cell_type": "code",
   "execution_count": 246,
   "outputs": [],
   "source": [
    "# Create regression matrices\n",
    "dtrain_clf = xgb.DMatrix(X_train, y_train)\n",
    "dtest_clf = xgb.DMatrix(X_test, y_test)"
   ],
   "metadata": {
    "collapsed": false
   }
  },
  {
   "cell_type": "code",
   "execution_count": 247,
   "outputs": [],
   "source": [
    "evals = [(dtrain_clf, \"train\"), (dtest_clf, \"validation\")]\n",
    "\n",
    "\n",
    "xgb_classifier = xgb.XGBClassifier(n_estimators=100, objective='binary:logistic', tree_method='hist', eta=0.1, max_depth=3, evals=evals)\n",
    "xgb_classifier.fit(X_train, y_train)\n",
    "\n",
    "\n",
    "model = xgb_classifier.get_booster()\n"
   ],
   "metadata": {
    "collapsed": false
   }
  },
  {
   "cell_type": "code",
   "execution_count": 248,
   "outputs": [],
   "source": [
    "from sklearn.metrics import mean_squared_error\n",
    "\n",
    "preds = model.predict(dtest_clf)"
   ],
   "metadata": {
    "collapsed": false
   }
  },
  {
   "cell_type": "code",
   "execution_count": 249,
   "outputs": [],
   "source": [
    "rmse = mean_squared_error(y_test, preds, squared=False)"
   ],
   "metadata": {
    "collapsed": false
   }
  },
  {
   "cell_type": "code",
   "execution_count": 250,
   "outputs": [
    {
     "name": "stdout",
     "output_type": "stream",
     "text": [
      "RMSE of the base model: 0.103\n"
     ]
    }
   ],
   "source": [
    "print(f\"RMSE of the base model: {rmse:.3f}\")"
   ],
   "metadata": {
    "collapsed": false
   }
  },
  {
   "cell_type": "code",
   "execution_count": 251,
   "outputs": [
    {
     "ename": "ValueError",
     "evalue": "feature_names mismatch: ['baronKills', 'championsKills', 'deaths', 'dragonKills', 'first_blood', 'first_turret', 'totalDamage', 'totalGold', 'totalLevel'] ['baronKills', 'dragonKills', 'totalGold', 'championsKills', 'deaths', 'totalDamage', 'totalLevel', 'first_blood', 'first_turret']",
     "output_type": "error",
     "traceback": [
      "\u001B[1;31m---------------------------------------------------------------------------\u001B[0m",
      "\u001B[1;31mValueError\u001B[0m                                Traceback (most recent call last)",
      "Cell \u001B[1;32mIn[251], line 27\u001B[0m\n\u001B[0;32m     23\u001B[0m test \u001B[38;5;241m=\u001B[39m test\u001B[38;5;241m.\u001B[39mdrop(\u001B[38;5;124m'\u001B[39m\u001B[38;5;124mwon\u001B[39m\u001B[38;5;124m'\u001B[39m, axis \u001B[38;5;241m=\u001B[39m \u001B[38;5;241m1\u001B[39m)\n\u001B[0;32m     25\u001B[0m help \u001B[38;5;241m=\u001B[39m xgb\u001B[38;5;241m.\u001B[39mDMatrix(test)\n\u001B[1;32m---> 27\u001B[0m predictions \u001B[38;5;241m=\u001B[39m \u001B[43mmodel\u001B[49m\u001B[38;5;241;43m.\u001B[39;49m\u001B[43mpredict\u001B[49m\u001B[43m(\u001B[49m\u001B[43mhelp\u001B[49m\u001B[43m)\u001B[49m\n",
      "File \u001B[1;32m~\\AppData\\Local\\Programs\\Python\\Python311\\Lib\\site-packages\\xgboost\\core.py:2271\u001B[0m, in \u001B[0;36mBooster.predict\u001B[1;34m(self, data, output_margin, pred_leaf, pred_contribs, approx_contribs, pred_interactions, validate_features, training, iteration_range, strict_shape)\u001B[0m\n\u001B[0;32m   2269\u001B[0m \u001B[38;5;28;01mif\u001B[39;00m validate_features:\n\u001B[0;32m   2270\u001B[0m     fn \u001B[38;5;241m=\u001B[39m data\u001B[38;5;241m.\u001B[39mfeature_names\n\u001B[1;32m-> 2271\u001B[0m     \u001B[38;5;28;43mself\u001B[39;49m\u001B[38;5;241;43m.\u001B[39;49m\u001B[43m_validate_features\u001B[49m\u001B[43m(\u001B[49m\u001B[43mfn\u001B[49m\u001B[43m)\u001B[49m\n\u001B[0;32m   2272\u001B[0m args \u001B[38;5;241m=\u001B[39m {\n\u001B[0;32m   2273\u001B[0m     \u001B[38;5;124m\"\u001B[39m\u001B[38;5;124mtype\u001B[39m\u001B[38;5;124m\"\u001B[39m: \u001B[38;5;241m0\u001B[39m,\n\u001B[0;32m   2274\u001B[0m     \u001B[38;5;124m\"\u001B[39m\u001B[38;5;124mtraining\u001B[39m\u001B[38;5;124m\"\u001B[39m: training,\n\u001B[1;32m   (...)\u001B[0m\n\u001B[0;32m   2277\u001B[0m     \u001B[38;5;124m\"\u001B[39m\u001B[38;5;124mstrict_shape\u001B[39m\u001B[38;5;124m\"\u001B[39m: strict_shape,\n\u001B[0;32m   2278\u001B[0m }\n\u001B[0;32m   2280\u001B[0m \u001B[38;5;28;01mdef\u001B[39;00m \u001B[38;5;21massign_type\u001B[39m(t: \u001B[38;5;28mint\u001B[39m) \u001B[38;5;241m-\u001B[39m\u001B[38;5;241m>\u001B[39m \u001B[38;5;28;01mNone\u001B[39;00m:\n",
      "File \u001B[1;32m~\\AppData\\Local\\Programs\\Python\\Python311\\Lib\\site-packages\\xgboost\\core.py:2968\u001B[0m, in \u001B[0;36mBooster._validate_features\u001B[1;34m(self, feature_names)\u001B[0m\n\u001B[0;32m   2962\u001B[0m \u001B[38;5;28;01mif\u001B[39;00m my_missing:\n\u001B[0;32m   2963\u001B[0m     msg \u001B[38;5;241m+\u001B[39m\u001B[38;5;241m=\u001B[39m (\n\u001B[0;32m   2964\u001B[0m         \u001B[38;5;124m\"\u001B[39m\u001B[38;5;130;01m\\n\u001B[39;00m\u001B[38;5;124mtraining data did not have the following fields: \u001B[39m\u001B[38;5;124m\"\u001B[39m\n\u001B[0;32m   2965\u001B[0m         \u001B[38;5;241m+\u001B[39m \u001B[38;5;124m\"\u001B[39m\u001B[38;5;124m, \u001B[39m\u001B[38;5;124m\"\u001B[39m\u001B[38;5;241m.\u001B[39mjoin(\u001B[38;5;28mstr\u001B[39m(s) \u001B[38;5;28;01mfor\u001B[39;00m s \u001B[38;5;129;01min\u001B[39;00m my_missing)\n\u001B[0;32m   2966\u001B[0m     )\n\u001B[1;32m-> 2968\u001B[0m \u001B[38;5;28;01mraise\u001B[39;00m \u001B[38;5;167;01mValueError\u001B[39;00m(msg\u001B[38;5;241m.\u001B[39mformat(\u001B[38;5;28mself\u001B[39m\u001B[38;5;241m.\u001B[39mfeature_names, feature_names))\n",
      "\u001B[1;31mValueError\u001B[0m: feature_names mismatch: ['baronKills', 'championsKills', 'deaths', 'dragonKills', 'first_blood', 'first_turret', 'totalDamage', 'totalGold', 'totalLevel'] ['baronKills', 'dragonKills', 'totalGold', 'championsKills', 'deaths', 'totalDamage', 'totalLevel', 'first_blood', 'first_turret']"
     ]
    }
   ],
   "source": [
    "new_data = [\n",
    "{\n",
    "    \"inhibKills\": 0,\n",
    "    \"towerKills\": 1,\n",
    "    \"teamID\": 200,\n",
    "    \"baronKills\": 0,\n",
    "    \"dragonKills\": 0,\n",
    "    \"assists\": 0.08775733925597866,\n",
    "    \"totalGold\": 1438.693819762514,\n",
    "    \"championsKills\": 0.04387866962798933,\n",
    "    \"deaths\": 0.7459373836758185,\n",
    "    \"totalDamage\": 16546.005533877258,\n",
    "    \"totalLevel\": 2.457205499167402,\n",
    "    \"won\": False,\n",
    "    \"first_blood\": False,\n",
    "    \"first_turret\": False,\n",
    "    \"game_time\": 1367407\n",
    "  }\n",
    "]\n",
    "\n",
    "test = pd.DataFrame(new_data)\n",
    "test = drop_unwanted_columns(test)\n",
    "test = test.drop('won', axis = 1)\n",
    "\n",
    "help = xgb.DMatrix(test)\n",
    "\n",
    "predictions = model.predict(help)\n"
   ],
   "metadata": {
    "collapsed": false
   }
  },
  {
   "cell_type": "code",
   "execution_count": 252,
   "outputs": [
    {
     "data": {
      "text/plain": "array([0.00121212], dtype=float32)"
     },
     "execution_count": 252,
     "metadata": {},
     "output_type": "execute_result"
    }
   ],
   "source": [
    "predictions"
   ],
   "metadata": {
    "collapsed": false
   }
  },
  {
   "cell_type": "code",
   "execution_count": 256,
   "outputs": [],
   "source": [
    "with open('esports-data/lck_2023_team_average_stats.json', 'r') as json_file:\n",
    "    testing_data = json.load(json_file)\n",
    "\n",
    "with open('esports-data/teams_but_better.json', 'r') as json_file:\n",
    "    team_names = json.load(json_file)\n",
    "\n",
    "\n",
    "result_dict = dict()\n",
    "\n",
    "for team_name, team_stats in testing_data.items():\n",
    "    count = 0\n",
    "    prediction = 0\n",
    "    for entry in team_stats:\n",
    "        test = pd.DataFrame([entry])\n",
    "        test = drop_unwanted_columns(test)\n",
    "        test = test.drop('won', axis = 1)\n",
    "        test_matrix = xgb.DMatrix(test)\n",
    "        prediction += model.predict(test_matrix)\n",
    "        count += 1\n",
    "    prediction /= count\n",
    "    result_dict[team_names[team_name]] = prediction\n",
    "\n",
    "\n",
    "\n"
   ],
   "metadata": {
    "collapsed": false
   }
  },
  {
   "cell_type": "code",
   "execution_count": 260,
   "outputs": [
    {
     "name": "stdout",
     "output_type": "stream",
     "text": [
      "[('Gen.G', array([0.8107719], dtype=float32)),\n",
      " ('kt Rolster', array([0.77995384], dtype=float32)),\n",
      " ('Hanwha Life Esports', array([0.59992224], dtype=float32)),\n",
      " ('Dplus Kia', array([0.53384155], dtype=float32)),\n",
      " ('T1', array([0.50062335], dtype=float32)),\n",
      " ('Liiv SANDBOX', array([0.34214368], dtype=float32)),\n",
      " ('DRX', array([0.33464232], dtype=float32)),\n",
      " ('OKSavingsBank BRION', array([0.331718], dtype=float32)),\n",
      " ('NongShim REDFORCE', array([0.30504218], dtype=float32)),\n",
      " ('Kwangdong Freecs', array([0.26372486], dtype=float32))]\n"
     ]
    }
   ],
   "source": [
    "pprint.pprint(sorted(result_dict.items(), key=lambda x:x[1], reverse=True))\n"
   ],
   "metadata": {
    "collapsed": false
   }
  },
  {
   "cell_type": "code",
   "execution_count": null,
   "outputs": [],
   "source": [],
   "metadata": {
    "collapsed": false
   }
  }
 ],
 "metadata": {
  "kernelspec": {
   "display_name": "Python 3",
   "language": "python",
   "name": "python3"
  },
  "language_info": {
   "codemirror_mode": {
    "name": "ipython",
    "version": 2
   },
   "file_extension": ".py",
   "mimetype": "text/x-python",
   "name": "python",
   "nbconvert_exporter": "python",
   "pygments_lexer": "ipython2",
   "version": "2.7.6"
  }
 },
 "nbformat": 4,
 "nbformat_minor": 0
}
